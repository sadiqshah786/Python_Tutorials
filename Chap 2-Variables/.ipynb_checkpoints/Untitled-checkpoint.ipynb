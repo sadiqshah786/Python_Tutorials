{
 "cells": [
  {
   "cell_type": "markdown",
   "metadata": {},
   "source": [
    "# Variables"
   ]
  },
  {
   "cell_type": "markdown",
   "metadata": {},
   "source": [
    "Variable is nothing but it is a way to store any kind of information like\n",
    "String values,Integers values,Float values..\n",
    "Now we will see it by praactically"
   ]
  },
  {
   "cell_type": "raw",
   "metadata": {},
   "source": [
    "# Some allowment to create a varible\n",
    "# 1.Varible shoud not with any spce\n",
    "  Wrong Example: sadiq shah=\"name\",num ber= 345,point num=0.455  (they all will genrate error)\n",
    "  \n",
    " Write syntax (sadiq_shah=\"name,num_ber=4546 ya number=334,point_num=0.455)\n",
    " \n",
    " 2.varible should not write with no or symbol except _ (underscore)\n",
    " Wrong Example: @name=\"sadiq shah\",@num=123,@num=0.345 (they all will genrate error)\n",
    " \n",
    " Right example: name=\"sadiq shah,num=123,num=0,345\n",
    " \n",
    " 3. Varible can be create just _ underscore\n",
    " _=\"name\",_=123,_=0.4677\n",
    " \n",
    " Some are syntax you should be take care about it\n",
    " \n",
    " We will do all with example practically..\n",
    " "
   ]
  },
  {
   "cell_type": "code",
   "execution_count": 29,
   "metadata": {},
   "outputs": [
    {
     "name": "stdout",
     "output_type": "stream",
     "text": [
      "sadiq shah\n",
      "im underscore\n"
     ]
    }
   ],
   "source": [
    "#wrong syntax\n",
    "# sadiq shah=\"name\"\n",
    "# print(sadiq shah)\n",
    "#right statemnt\n",
    "# sadiq_shah=\"name\"\n",
    "# print(sadiq_shah)\n",
    "\n",
    "# #wrong syntax\n",
    "# num ber=1323\n",
    "# print(num ber)\n",
    "\n",
    "#Right syntax\n",
    "# number=13234\n",
    "# print(number)\n",
    "\n",
    "# ya\n",
    "# num_ber=1334\n",
    "# print(num_ber)\n",
    "\n",
    "# @ali=\"sadiq sshah\"\n",
    "# print(@ali)\n",
    "\n",
    "# $name=\"Sir Nasir\"\n",
    "# print($name)  # no symbol accpt ony under score accptable\n",
    "ali=\"sadiq shah\"\n",
    "print(ali)\n",
    "\n",
    "_=\"im underscore\"\n",
    "print(_)\n"
   ]
  },
  {
   "cell_type": "raw",
   "metadata": {},
   "source": [
    "Varible syntax:\n",
    "name of varible(jo apko thk lgy set kr dyn) =  value(String values,Integers values,Float value)"
   ]
  },
  {
   "cell_type": "code",
   "execution_count": 8,
   "metadata": {},
   "outputs": [
    {
     "name": "stdout",
     "output_type": "stream",
     "text": [
      "Sadiq shah\n",
      "Happy Eid Mubark\n",
      "SBSA\n",
      "Sir Nasir Hussain\n"
     ]
    }
   ],
   "source": [
    "# Varible as a String\n",
    "\n",
    "name= \"Sadiq shah\"  #varible created.We run it cell but it move 2nd cell becauase varible created,\n",
    "                    #if we want to acsess it so we print the varible.\n",
    "print(name)\n",
    "#because sadiq is store in name variable\n",
    "\n",
    "greeting=\"Happy Eid Mubark\"\n",
    "print(greeting)\n",
    "\n",
    "Insitute_name='SBSA'  #error because SBSA is a string and we dnt wrtie in quotes so..Done now we will call\n",
    "print(Insitute_name)\n",
    "\n",
    "Teacher_name=\"Sir Nasir Hussain\"\n",
    "print(Teacher_name)\n",
    "\n",
    "# NOw we will print and store char\n"
   ]
  },
  {
   "cell_type": "code",
   "execution_count": 11,
   "metadata": {},
   "outputs": [
    {
     "name": "stdout",
     "output_type": "stream",
     "text": [
      "A\n",
      "('/', '2')\n"
     ]
    }
   ],
   "source": [
    "# Now Character store in varible and print it\\\n",
    "character=\"A\"\n",
    "print(character) # name error because we write name of varible is wrong,let check mistake was small c\n",
    "\n",
    "symbol=\"/\",\"2\"\n",
    "print(symbol)  #More than character print after store in varible.\n",
    "\n"
   ]
  },
  {
   "cell_type": "markdown",
   "metadata": {},
   "source": [
    "# Varible as Number"
   ]
  },
  {
   "cell_type": "code",
   "execution_count": 12,
   "metadata": {},
   "outputs": [
    {
     "name": "stdout",
     "output_type": "stream",
     "text": [
      "234\n"
     ]
    }
   ],
   "source": [
    "num=234\n",
    "print(num)"
   ]
  },
  {
   "cell_type": "code",
   "execution_count": 17,
   "metadata": {},
   "outputs": [
    {
     "name": "stdout",
     "output_type": "stream",
     "text": [
      "34\n",
      "name\n"
     ]
    }
   ],
   "source": [
    "lucky_no=34\n",
    "print(lucky_no)  #Syntax eror  space is not  between varible.,\n",
    "# 1.varible define with out any space ok?\n",
    "\n",
    "sadiq_shah=\"name\"\n",
    "print(sadiq_shah) #it wil give eror bcz space\n",
    "# its method to write varible"
   ]
  },
  {
   "cell_type": "code",
   "execution_count": 44,
   "metadata": {},
   "outputs": [
    {
     "name": "stdout",
     "output_type": "stream",
     "text": [
      "Sadiq shah\n",
      "21\n",
      "23\n",
      "321354647473\n"
     ]
    },
    {
     "ename": "NameError",
     "evalue": "name 'my_contact' is not defined",
     "output_type": "error",
     "traceback": [
      "\u001b[1;31m---------------------------------------------------------------------------\u001b[0m",
      "\u001b[1;31mNameError\u001b[0m                                 Traceback (most recent call last)",
      "\u001b[1;32m<ipython-input-44-5caa481ddc47>\u001b[0m in \u001b[0;36m<module>\u001b[1;34m\u001b[0m\n\u001b[0;32m     18\u001b[0m \u001b[1;33m\u001b[0m\u001b[0m\n\u001b[0;32m     19\u001b[0m \u001b[0mprint\u001b[0m\u001b[1;33m(\u001b[0m\u001b[0mmy_cont\u001b[0m\u001b[1;33m)\u001b[0m\u001b[1;33m\u001b[0m\u001b[1;33m\u001b[0m\u001b[0m\n\u001b[1;32m---> 20\u001b[1;33m \u001b[0mprint\u001b[0m\u001b[1;33m(\u001b[0m\u001b[0mmy_contact\u001b[0m\u001b[1;33m+\u001b[0m\u001b[1;36m20\u001b[0m\u001b[1;33m)\u001b[0m\u001b[1;33m\u001b[0m\u001b[1;33m\u001b[0m\u001b[0m\n\u001b[0m\u001b[0;32m     21\u001b[0m \u001b[1;33m\u001b[0m\u001b[0m\n\u001b[0;32m     22\u001b[0m \u001b[1;31m# You can chage you age after adding some number in it\u001b[0m\u001b[1;33m\u001b[0m\u001b[1;33m\u001b[0m\u001b[1;33m\u001b[0m\u001b[0m\n",
      "\u001b[1;31mNameError\u001b[0m: name 'my_contact' is not defined"
     ]
    }
   ],
   "source": []
  },
  {
   "cell_type": "code",
   "execution_count": null,
   "metadata": {},
   "outputs": [],
   "source": []
  },
  {
   "cell_type": "code",
   "execution_count": null,
   "metadata": {},
   "outputs": [],
   "source": []
  }
 ],
 "metadata": {
  "kernelspec": {
   "display_name": "Python 3",
   "language": "python",
   "name": "python3"
  },
  "language_info": {
   "codemirror_mode": {
    "name": "ipython",
    "version": 3
   },
   "file_extension": ".py",
   "mimetype": "text/x-python",
   "name": "python",
   "nbconvert_exporter": "python",
   "pygments_lexer": "ipython3",
   "version": "3.7.3"
  }
 },
 "nbformat": 4,
 "nbformat_minor": 2
}
