{
 "cells": [
  {
   "cell_type": "markdown",
   "metadata": {},
   "source": [
    "# Variables"
   ]
  },
  {
   "cell_type": "markdown",
   "metadata": {},
   "source": [
    "Variable is nothing but it is a way to store any kind of information like\n",
    "String values,Integers values,Float values..\n",
    "Now we will see it by praactically"
   ]
  },
  {
   "cell_type": "raw",
   "metadata": {},
   "source": [
    "# Some allowment to create a varible\n",
    "# 1.Varible shoud not with any spce\n",
    "  Wrong Example: sadiq shah=\"name\",num ber= 345,point num=0.455  (they all will genrate error)\n",
    "  \n",
    " Write syntax (sadiq_shah=\"name,num_ber=4546 ya number=334,point_num=0.455)\n",
    " \n",
    " 2.varible should not write with no or symbol except _ (underscore)\n",
    " Wrong Example: @name=\"sadiq shah\",@num=123,@num=0.345 (they all will genrate error)\n",
    " \n",
    " Right example: name=\"sadiq shah,num=123,num=0,345\n",
    " \n",
    " 3. Varible can be create just _ underscore\n",
    " _=\"name\",_=123,_=0.4677\n",
    " \n",
    " Some are syntax you should be take care about it\n",
    " \n",
    " We will do all with example practically..\n",
    " "
   ]
  },
  {
   "cell_type": "code",
   "execution_count": 28,
   "metadata": {},
   "outputs": [
    {
     "name": "stdout",
     "output_type": "stream",
     "text": [
      "sadiq shah\n"
     ]
    }
   ],
   "source": [
    "#wrong syntax\n",
    "# sadiq shah=\"name\"\n",
    "# print(sadiq shah)\n",
    "#right statemnt\n",
    "# sadiq_shah=\"name\"\n",
    "# print(sadiq_shah)\n",
    "\n",
    "# #wrong syntax\n",
    "# num ber=1323\n",
    "# print(num ber)\n",
    "\n",
    "#Right syntax\n",
    "# number=13234\n",
    "# print(number)\n",
    "\n",
    "# ya\n",
    "# num_ber=1334\n",
    "# print(num_ber)\n",
    "\n",
    "# @ali=\"sadiq sshah\"\n",
    "# print(@ali)\n",
    "\n",
    "# $name=\"Sir Nasir\"\n",
    "# print($name)  # no symbol accpt ony under score accptable\n",
    "ali=\"sadiq shah\"\n",
    "print(ali)\n",
    "\n",
    "_=\"im\""
   ]
  },
  {
   "cell_type": "raw",
   "metadata": {},
   "source": [
    "Varible syntax:\n",
    "name of varible(jo apko thk lgy set kr dyn) =  value(String values,Integers values,Float value)"
   ]
  },
  {
   "cell_type": "code",
   "execution_count": 8,
   "metadata": {},
   "outputs": [
    {
     "name": "stdout",
     "output_type": "stream",
     "text": [
      "Sadiq shah\n",
      "Happy Eid Mubark\n",
      "SBSA\n",
      "Sir Nasir Hussain\n"
     ]
    }
   ],
   "source": [
    "# Varible as a String\n",
    "\n",
    "name= \"Sadiq shah\"  #varible created.We run it cell but it move 2nd cell becauase varible created,\n",
    "                    #if we want to acsess it so we print the varible.\n",
    "print(name)\n",
    "#because sadiq is store in name variable\n",
    "\n",
    "greeting=\"Happy Eid Mubark\"\n",
    "print(greeting)\n",
    "\n",
    "Insitute_name='SBSA'  #error because SBSA is a string and we dnt wrtie in quotes so..Done now we will call\n",
    "print(Insitute_name)\n",
    "\n",
    "Teacher_name=\"Sir Nasir Hussain\"\n",
    "print(Teacher_name)\n",
    "\n",
    "# NOw we will print and store char\n"
   ]
  },
  {
   "cell_type": "code",
   "execution_count": 11,
   "metadata": {},
   "outputs": [
    {
     "name": "stdout",
     "output_type": "stream",
     "text": [
      "A\n",
      "('/', '2')\n"
     ]
    }
   ],
   "source": [
    "# Now Character store in varible and print it\\\n",
    "character=\"A\"\n",
    "print(character) # name error because we write name of varible is wrong,let check mistake was small c\n",
    "\n",
    "symbol=\"/\",\"2\"\n",
    "print(symbol)  #More than character print after store in varible.\n",
    "\n"
   ]
  },
  {
   "cell_type": "markdown",
   "metadata": {},
   "source": [
    "# Varible as Number"
   ]
  },
  {
   "cell_type": "code",
   "execution_count": 12,
   "metadata": {},
   "outputs": [
    {
     "name": "stdout",
     "output_type": "stream",
     "text": [
      "234\n"
     ]
    }
   ],
   "source": [
    "num=234\n",
    "print(num)"
   ]
  },
  {
   "cell_type": "code",
   "execution_count": 17,
   "metadata": {},
   "outputs": [
    {
     "name": "stdout",
     "output_type": "stream",
     "text": [
      "34\n",
      "name\n"
     ]
    }
   ],
   "source": [
    "lucky_no=34\n",
    "print(lucky_no)  #Syntax eror  space is not  between varible.,\n",
    "# 1.varible define with out any space ok?\n",
    "\n",
    "sadiq_shah=\"name\"\n",
    "print(sadiq_shah) #it wil give eror bcz space\n",
    "# its method to write varible"
   ]
  },
  {
   "cell_type": "code",
   "execution_count": 3,
   "metadata": {},
   "outputs": [
    {
     "name": "stdout",
     "output_type": "stream",
     "text": [
      "Sadiq shah\n",
      "21\n",
      "23\n",
      "321354647473\n",
      "321354647477\n"
     ]
    }
   ],
   "source": [
    "# Some implementation in varible,,,,We understand with some examples:\n",
    "# Q1: \n",
    "    #declare a varible(my name,my age,my contact_no) and store in values.\n",
    "\n",
    "my_name=\"Sadiq shah\"\n",
    "\n",
    "my_age=21\n",
    "\n",
    "my_cont=321354647473\n",
    "\n",
    "#Now print all varibles\n",
    "\n",
    "print(my_name)\n",
    "\n",
    "print(my_age) #before\n",
    "print(my_age+2) #after add 2\n",
    "\n",
    "\n",
    "print(my_cont)\n",
    "print(my_cont+4)\n",
    "\n",
    "# You can chage you age after adding some number in it\n",
    "#you can change your number,it not allow to add with many number that why its generate the error\n"
   ]
  },
  {
   "cell_type": "code",
   "execution_count": 6,
   "metadata": {},
   "outputs": [
    {
     "name": "stdout",
     "output_type": "stream",
     "text": [
      "21 60\n",
      "22 61\n",
      "3.5\n"
     ]
    }
   ],
   "source": [
    "#some additon excerise of varibles:\n",
    "#declare 2 variables age and weight now print both in one statment\n",
    "my_age=21\n",
    "my_weight =60\n",
    "\n",
    "print(my_age,my_weight)   #','it will seprate both varibles\n",
    "\n",
    "#Now we change the value of my age and my weight\n",
    "#After one year\n",
    "\n",
    "my_age=21+1\n",
    "my_weight=60+1\n",
    "print(my_age,my_weight)\n",
    "#values change string can not add each others\n",
    "#floats value can be change\n",
    "\n",
    "\n",
    "mass_of_elcetron=1.6\n",
    "mass_of_neutron=1.9\n",
    "total_mass_of_both=mass_of_elcetron+mass_of_neutron\n",
    "print(total_mass_of_both) #after add\n",
    "\n"
   ]
  },
  {
   "cell_type": "code",
   "execution_count": 13,
   "metadata": {},
   "outputs": [
    {
     "name": "stdout",
     "output_type": "stream",
     "text": [
      "sadiq  shah  shahshab\n"
     ]
    }
   ],
   "source": [
    "#string can not be add sub div mul but it can concatenate with each other in other lesson i will tell about concatenate\n",
    "\n",
    "f_name=\"sadiq \"\n",
    "m_name=\" shah\"\n",
    "l_name=\"  shahshab\"\n",
    "name=f_name+m_name+l_name #3no ek varible me dal dye hum ny jo k name ka var hai\n",
    "print(name)  #ab ye mily hwe haii agr space chaye to filhal jugar tareeqy sy kr dyn next chap m by professionaly btao ga\n",
    "\n",
    "# OK ye tha hmara 2nd 3rd chapter mene donu combine kr dye hain next hai hmara topic operator\n",
    "# I hope apko smjh aya hoga thanks for watch\n",
    "# All credit goes to Sir Nasir Hussain\n",
    "# Thanks Sir"
   ]
  },
  {
   "cell_type": "code",
   "execution_count": null,
   "metadata": {},
   "outputs": [],
   "source": []
  }
 ],
 "metadata": {
  "kernelspec": {
   "display_name": "Python 3",
   "language": "python",
   "name": "python3"
  },
  "language_info": {
   "codemirror_mode": {
    "name": "ipython",
    "version": 3
   },
   "file_extension": ".py",
   "mimetype": "text/x-python",
   "name": "python",
   "nbconvert_exporter": "python",
   "pygments_lexer": "ipython3",
   "version": "3.7.3"
  }
 },
 "nbformat": 4,
 "nbformat_minor": 2
}
