{
 "cells": [
  {
   "cell_type": "markdown",
   "metadata": {},
   "source": [
    "# print statment\""
   ]
  },
  {
   "cell_type": "markdown",
   "metadata": {},
   "source": [
    "Data type: There are three types of data types that use in python.\n",
    "1st \n",
    "1- Integer: Integers is a number which contains the +ve or negative no.\n",
    "Example: 2,4,5,6,7(Positive integers)  -6,-5,-8,-10(Negative integers)\n",
    "\n",
    "\n",
    "character:any symbol or a alphabates or number which is written in \"\" ,'' single quotes or double qoutes.\n",
    "Example: \"A\",'a',\"/\",'1',\"10\" (All are characters) # all are character\n",
    "\n",
    "2-String: Collection of Characters is called string.\n",
    "Example: \"My name is sadiq shah\",\"Hello world\",'Allah is Every Where' ( are strings)\n",
    "\n",
    "3- float:It is fractional no (means it consist points value)\n",
    "\n",
    "Example: -0.345,-23,-5566.44 (All are floats)\n",
    "\n",
    "Now we will do three data types with help of print statement:\n",
    "\n",
    "What is print statment: In which we write any integer no,any string, any character or float no.\n",
    "\n",
    "syntax:\n",
    "print(any statment you write here)\n",
    "\n"
   ]
  },
  {
   "cell_type": "code",
   "execution_count": 13,
   "metadata": {},
   "outputs": [
    {
     "name": "stdout",
     "output_type": "stream",
     "text": [
      "1\n",
      "-345\n",
      "6\n",
      "2\n",
      "-2\n",
      "15\n",
      "-6\n",
      "0.6666666666666666\n",
      "0\n"
     ]
    }
   ],
   "source": [
    "#Example of integers:\n",
    "print(1) #positive integers\n",
    "\n",
    "print(-345) #negative integers\n",
    "\n",
    "#u can Also add subtract multiply division by print method:\n",
    "\n",
    "#add\n",
    "print(2+4)  #shift+enter fot run\n",
    "#sub\n",
    "print(5-3)\n",
    "print(3-5)\n",
    "\n",
    "# mul\n",
    "print(3*5)\n",
    "print(-3*2)\n",
    "\n",
    "#division:\n",
    "#There are two types of divded in python / single(it give you answer with points) and\n",
    "#//(its will give you answer with  no pints)\n",
    "\n",
    "print(2/3) #with points\n",
    "print(2//3) #with no points\n",
    "\n"
   ]
  },
  {
   "cell_type": "code",
   "execution_count": 20,
   "metadata": {},
   "outputs": [
    {
     "name": "stdout",
     "output_type": "stream",
     "text": [
      "A\n",
      "/\n",
      "-----\n",
      "My name is sadiq shha\n",
      "Sir Nasir is the best teacher\n"
     ]
    }
   ],
   "source": [
    "#NOw 2nd data types  string\n",
    "print(\"A\") #its character\n",
    "print(\"/\")\n",
    "print(\"-----\")\n",
    "\n",
    "#NOw String\n",
    "print(\"My name is sadiq shha\")\n",
    "print(\"Sir Nasir is the best teacher\")"
   ]
  },
  {
   "cell_type": "code",
   "execution_count": 26,
   "metadata": {},
   "outputs": [
    {
     "name": "stdout",
     "output_type": "stream",
     "text": [
      "0.3333\n",
      "-4544.655\n",
      "-4544.3216999999995\n",
      "2.6670000000000003\n",
      "1.6855172413793105\n",
      "0.0\n"
     ]
    }
   ],
   "source": [
    "#Now 3rd Data type Flaot:\\\n",
    "print(0.3333)\n",
    "print(-4544.655)\n",
    "\n",
    "print(0.3333-4544.655)\n",
    "\n",
    "print(0.333+2.334)\n",
    "\n",
    "print(2.444/1.45)\n",
    "\n",
    "print(0.333//0.56)\n",
    "\n",
    "# its ia the print cammd now next chap we will disscus Varible\n",
    "# I hope you understand\n",
    "# Thanks you"
   ]
  },
  {
   "cell_type": "code",
   "execution_count": null,
   "metadata": {},
   "outputs": [],
   "source": []
  }
 ],
 "metadata": {
  "kernelspec": {
   "display_name": "Python 3",
   "language": "python",
   "name": "python3"
  },
  "language_info": {
   "codemirror_mode": {
    "name": "ipython",
    "version": 3
   },
   "file_extension": ".py",
   "mimetype": "text/x-python",
   "name": "python",
   "nbconvert_exporter": "python",
   "pygments_lexer": "ipython3",
   "version": "3.7.3"
  }
 },
 "nbformat": 4,
 "nbformat_minor": 2
}
