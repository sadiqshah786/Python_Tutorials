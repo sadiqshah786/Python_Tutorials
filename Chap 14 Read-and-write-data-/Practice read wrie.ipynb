{
 "cells": [
  {
   "cell_type": "markdown",
   "metadata": {},
   "source": [
    "# Read a text file data"
   ]
  },
  {
   "cell_type": "code",
   "execution_count": null,
   "metadata": {},
   "outputs": [],
   "source": [
    "# Asalam o alikum \n",
    "#aj hum parhn gy k kese b text file ko kese read krty hain\n"
   ]
  },
  {
   "cell_type": "code",
   "execution_count": null,
   "metadata": {},
   "outputs": [],
   "source": [
    "# Synax:\n",
    "#     with open (keyword) ('file name' , 'mode(r,w)')  as f (meas f means from file its not chnge always write f) :\n",
    "#read for r and write for r"
   ]
  },
  {
   "cell_type": "code",
   "execution_count": null,
   "metadata": {},
   "outputs": [],
   "source": [
    "# Now we Create a file form where we read.. Now we read the data from read_file.txt"
   ]
  },
  {
   "cell_type": "code",
   "execution_count": 38,
   "metadata": {},
   "outputs": [
    {
     "name": "stdout",
     "output_type": "stream",
     "text": [
      "Im a not perfect in programming....\n",
      "Im a not perfect in programming....\n",
      "Im a not perfect in programming....\n",
      "Im a not perfect in programming....\n",
      "Im a not perfect in programming....\n"
     ]
    }
   ],
   "source": [
    "with open('Read_file.txt','r') as f :\n",
    "    read=f.read()\n",
    "    print(read)\n",
    "                #File has been read but we can not see...we should store in varible and print variable\n",
    "#         thnkx"
   ]
  },
  {
   "cell_type": "markdown",
   "metadata": {},
   "source": [
    "# Write a data into text file"
   ]
  },
  {
   "cell_type": "code",
   "execution_count": null,
   "metadata": {},
   "outputs": [],
   "source": [
    "#how to write a data..into txt file..\n",
    "same syntax"
   ]
  },
  {
   "cell_type": "code",
   "execution_count": 42,
   "metadata": {},
   "outputs": [],
   "source": [
    "with open('Read_file.txt','w') as f :\n",
    "    f.write(\"Oh hello im not a programmer\")\n",
    "    f.write(\"Oh hello im not a programmer.........\")\n",
    "    #done line has been wrtie into read.txt file...\n",
    "   "
   ]
  },
  {
   "cell_type": "code",
   "execution_count": null,
   "metadata": {},
   "outputs": [],
   "source": [
    "#its write and read line has been over write.....\n",
    "# im not perfect lines are over write by...oh hello0 line...\n",
    "thnax..."
   ]
  },
  {
   "cell_type": "code",
   "execution_count": null,
   "metadata": {},
   "outputs": [],
   "source": [
    "# Now we have in read .text file has two lines line\n",
    "# f.write(\"Oh hello im not a programmer\")\n",
    "#     f.write(\"Oh hello im not a programmer.........\")\n",
    "#     now when i write new line i will be over write\n",
    "#     me chata hu ye b data rhy and ab jo likho wo be to phle dekhty hain new ,likhny sy over write hota hai ya ni\n",
    "# now we use method both data will be safe"
   ]
  },
  {
   "cell_type": "code",
   "execution_count": 54,
   "metadata": {},
   "outputs": [],
   "source": [
    "with open(\"Read_file.txt\",'w') as f:  # means append it will help to no over write the data\n",
    "    f.write(\"GO there programming is to easy as u understand...\")"
   ]
  },
  {
   "cell_type": "code",
   "execution_count": 56,
   "metadata": {},
   "outputs": [],
   "source": [
    "with open(\"Read_file.txt\",'a') as f:  # means append it will help to no over write the data\n",
    "    f.write(\"GO there programming is to easy as u understand...Yes im belive on it\")"
   ]
  },
  {
   "cell_type": "code",
   "execution_count": null,
   "metadata": {},
   "outputs": [],
   "source": []
  }
 ],
 "metadata": {
  "kernelspec": {
   "display_name": "Python 3",
   "language": "python",
   "name": "python3"
  },
  "language_info": {
   "codemirror_mode": {
    "name": "ipython",
    "version": 3
   },
   "file_extension": ".py",
   "mimetype": "text/x-python",
   "name": "python",
   "nbconvert_exporter": "python",
   "pygments_lexer": "ipython3",
   "version": "3.7.3"
  }
 },
 "nbformat": 4,
 "nbformat_minor": 2
}
