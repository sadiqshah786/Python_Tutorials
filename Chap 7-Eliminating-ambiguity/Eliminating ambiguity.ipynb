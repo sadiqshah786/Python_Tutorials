{
 "cells": [
  {
   "cell_type": "markdown",
   "metadata": {},
   "source": [
    "# Eliminating ambiguity\n"
   ]
  },
  {
   "cell_type": "code",
   "execution_count": 4,
   "metadata": {},
   "outputs": [
    {
     "name": "stdout",
     "output_type": "stream",
     "text": [
      "5.5\n",
      "351.0\n"
     ]
    }
   ],
   "source": [
    "# In this chapter all operater will be performed by sequence..\n",
    "# A/c to BODMAS rule will br solve\n",
    "\n",
    "# Brackets  [{()}]  sb sy phle []  then {}  then ()   sb sy phle brackets me jo values hongi wo solve hongi\n",
    "# of\n",
    "# Divided /\n",
    "# Multiply *\n",
    "# Addition +\n",
    "# Subtraction -\n",
    "#  agr bracket me sb sy phle div ho to div then mul thenn add then sub..\n",
    "# Example no 1\n",
    "\n",
    "a=(3+4-6/8*2)\n",
    "print(a)\n",
    "# sb sy phle bracket me  divide solve hoga\n",
    "# 6/8=0.75\n",
    "# multiply\n",
    "# 0.75*2=1.5\n",
    "# Now  addition\n",
    "# 3+4=7\n",
    "# Now\n",
    "# 6/8*2=1.5\n",
    "# and \n",
    "# 3+4=7\n",
    "# Now last subtraction\n",
    "# 7-1.5=5.5  #answer should be 5.5\n",
    "\n",
    "# Example 02:\n",
    "\n",
    "a=(2+2*5)-(234/2)+456 #Now solving this\n",
    "\n",
    "# # as you like solve the bracket\n",
    "# # divided ni to  multiply chk krn gy\n",
    "# 2*5=10\n",
    "# 10+2=12  #1st bracket solve\n",
    "\n",
    "# 234/2=117\n",
    "\n",
    "# Now bracket has been solve no a/c to DMAS\n",
    "# 12-117+456\n",
    "# # Now 1st add then subtract\n",
    "# 12-117=-105\n",
    "# now\n",
    "# -105+456\n",
    "# 351 answer\n",
    "\n",
    "print(a)\n",
    "\n",
    "# Correct answer\n",
    "# Thanks you/./...\n",
    "\n",
    "\n"
   ]
  },
  {
   "cell_type": "code",
   "execution_count": null,
   "metadata": {},
   "outputs": [],
   "source": []
  }
 ],
 "metadata": {
  "kernelspec": {
   "display_name": "Python 3",
   "language": "python",
   "name": "python3"
  },
  "language_info": {
   "codemirror_mode": {
    "name": "ipython",
    "version": 3
   },
   "file_extension": ".py",
   "mimetype": "text/x-python",
   "name": "python",
   "nbconvert_exporter": "python",
   "pygments_lexer": "ipython3",
   "version": "3.7.3"
  }
 },
 "nbformat": 4,
 "nbformat_minor": 2
}
