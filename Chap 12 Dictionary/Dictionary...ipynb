{
 "cells": [
  {
   "cell_type": "markdown",
   "metadata": {},
   "source": [
    "# DICTIONARIES"
   ]
  },
  {
   "cell_type": "raw",
   "metadata": {},
   "source": [
    " It is unorderd collection of data\n",
    "- Dictionaries are mutable, which means they can be changed. \n",
    "-It is denoted by {} curly brackets.\n",
    "-There is no index\n",
    "Possiblities:\n",
    "number,floats,string,dictionaries into dictionaries,list into dictionaries"
   ]
  },
  {
   "cell_type": "code",
   "execution_count": null,
   "metadata": {},
   "outputs": [],
   "source": [
    "-How to declare dictionaries..\n",
    "-How to accsess values items of dictionary by keys name\n",
    "-How to add items in dictionary.\n",
    "-How to pop item\n",
    "-How delete to pop item.\n",
    "\n",
    "Through Loops:\n",
    "-Accsess All keys by Loop\n",
    "-Accsess All Values by loop\n",
    "-Accsess both values and keys by loop\n",
    "\n",
    "\n",
    "List of dictionary and dictionary into list\n",
    "Dictionary into Dictionary..\n",
    "\n",
    "with all example....and practice program..."
   ]
  },
  {
   "cell_type": "markdown",
   "metadata": {},
   "source": [
    "# How to declare the dictionary"
   ]
  },
  {
   "cell_type": "code",
   "execution_count": 8,
   "metadata": {},
   "outputs": [],
   "source": [
    "my_info ={\"name\" : \"sadiq shah\" , \"age\" : 21 , \"Course\" : \"AI\"}  \n",
    "    #     key        value\n",
    "my_info2={}\n",
    "my_info2[\"name\"]=\"sadiq shah\"\n",
    "my_info2[\"age\"]=21\n",
    "my_info2[\"Course\"]=\"Block Chain\"\n"
   ]
  },
  {
   "cell_type": "code",
   "execution_count": 10,
   "metadata": {},
   "outputs": [
    {
     "name": "stdout",
     "output_type": "stream",
     "text": [
      "{'name': 'sadiq shah', 'age': 21, 'Course': 'AI'}\n",
      "{'name': 'sadiq shah', 'age': 21, 'Course': 'Block Chain'}\n"
     ]
    }
   ],
   "source": [
    "print(my_info)\n",
    "print(my_info2)"
   ]
  },
  {
   "cell_type": "markdown",
   "metadata": {},
   "source": [
    "# Accsessing the Values of dictionary by keys"
   ]
  },
  {
   "cell_type": "code",
   "execution_count": null,
   "metadata": {},
   "outputs": [],
   "source": []
  },
  {
   "cell_type": "code",
   "execution_count": 26,
   "metadata": {},
   "outputs": [],
   "source": [
    "my_faimly={\n",
    "    \n",
    "    \"My  name\" : \"Sadiq shah\",\n",
    "    \"My Father name\" : \"Naseeb shah\",\n",
    "    \"My brother name\": \"Jamal\"\n",
    "    \n",
    "    \n",
    "}\n"
   ]
  },
  {
   "cell_type": "code",
   "execution_count": 35,
   "metadata": {},
   "outputs": [
    {
     "name": "stdout",
     "output_type": "stream",
     "text": [
      "Sadiq shah\n",
      "Naseeb shah\n",
      "Jamal\n",
      "my name is Sadiq shah\n",
      "my father name is: Naseeb shah\n",
      "my brother name is : Jamal\n"
     ]
    }
   ],
   "source": [
    "print(my_faimly[\"My  name\"])\n",
    "print(my_faimly[\"My Father name\"])\n",
    "print(my_faimly[\"My brother name\"])\n",
    "\n",
    "\n",
    "a=my_faimly[\"My  name\"]\n",
    "b=my_faimly[\"My Father name\"]\n",
    "c=my_faimly[\"My brother name\"]\n",
    "\n",
    "print(f\"my name is {a}\\nmy father name is: {b}\\nmy brother name is : {c}\")"
   ]
  },
  {
   "cell_type": "markdown",
   "metadata": {},
   "source": [
    "# Poped the value of dictionary"
   ]
  },
  {
   "cell_type": "code",
   "execution_count": 37,
   "metadata": {},
   "outputs": [
    {
     "name": "stdout",
     "output_type": "stream",
     "text": [
      "Naseeb shah\n",
      "{'My  name': 'Sadiq shah', 'My brother name': 'Jamal'}\n"
     ]
    }
   ],
   "source": [
    "my_faimly={\n",
    "    \n",
    "    \"My  name\" : \"Sadiq shah\",\n",
    "    \"My Father name\" : \"Naseeb shah\",\n",
    "    \"My brother name\": \"Jamal\"\n",
    "    \n",
    "    \n",
    "}\n",
    "a=my_faimly.pop(\"My Father name\")\n",
    "print(a)\n",
    "print(my_faimly)"
   ]
  },
  {
   "cell_type": "code",
   "execution_count": 46,
   "metadata": {
    "collapsed": true
   },
   "outputs": [
    {
     "name": "stdout",
     "output_type": "stream",
     "text": [
      "{'Dog': ' Pet Animal', 'Cat': 'Pet Animal', 'Cow': 'pet Animal'}\n",
      "DOg is  Pet Animal\n",
      "Cat is pet Animal\n",
      "Cow is Pet Animal\n",
      "Pet Animal\n",
      "{'Dog': ' Pet Animal', 'Cow': 'pet Animal'}\n"
     ]
    }
   ],
   "source": [
    "animals={\n",
    "    \"Dog\" : \" Pet Animal\",\n",
    "    \"Cat\" :  \"Pet Animal\",\n",
    "    \"Cow\" : \"pet Animal\"\n",
    "}\n",
    "print(animals)\n",
    "print(\"DOg is \" + animals[\"Dog\"])\n",
    "print(\"Cat is \" + animals[\"Cow\"])\n",
    "print(\"Cow is \" + animals[\"Cat\"])\n",
    "\n",
    "b= animals.pop(\"Cat\")\n",
    "print(b)\n",
    "print(animals)"
   ]
  },
  {
   "cell_type": "markdown",
   "metadata": {},
   "source": [
    "# Accsess values by key method"
   ]
  },
  {
   "cell_type": "code",
   "execution_count": 1,
   "metadata": {},
   "outputs": [
    {
     "name": "stdout",
     "output_type": "stream",
     "text": [
      "book\n",
      "name\n"
     ]
    }
   ],
   "source": [
    "# .KEY() KEY WORD...\n",
    "dic1={\n",
    "    \"book\" :\"chemisry\",\n",
    "    \"name\" : \"saadiq shah\"\n",
    "}\n",
    "# print(dic1[\"book\"])\n",
    "# print(dic1[\"name\"])\n",
    "\n",
    "\n",
    "for i in dic1.keys():\n",
    "    print(i)"
   ]
  },
  {
   "cell_type": "markdown",
   "metadata": {},
   "source": [
    "# Accsess values by values method"
   ]
  },
  {
   "cell_type": "code",
   "execution_count": 4,
   "metadata": {},
   "outputs": [
    {
     "name": "stdout",
     "output_type": "stream",
     "text": [
      "chemisry\n",
      "saadiq shah\n"
     ]
    }
   ],
   "source": [
    "dic1={\n",
    "    \"book\" :\"chemisry\",\n",
    "    \"name\" : \"saadiq shah\"\n",
    "}\n",
    "for i in dic1.values():\n",
    "    print(i)"
   ]
  },
  {
   "cell_type": "markdown",
   "metadata": {},
   "source": [
    "# Accsess values by items method"
   ]
  },
  {
   "cell_type": "code",
   "execution_count": 3,
   "metadata": {},
   "outputs": [
    {
     "name": "stdout",
     "output_type": "stream",
     "text": [
      "keys are book\n",
      " values are chemisry\n",
      "keys are name\n",
      " values are saadiq shah\n",
      "keys are age\n",
      " values are 21\n",
      "keys are course\n",
      " values are BC,AI,CC\n",
      "keys are Fav subject\n",
      " values are AI\n"
     ]
    }
   ],
   "source": [
    "# item()\n",
    "dic1={\n",
    "    \"book\" :\"chemisry\",\n",
    "    \"name\" : \"saadiq shah\",\n",
    "    \"age\" : 21,\n",
    "    \"course\" : \"BC,AI,CC\",\n",
    "    \"Fav subject\" : \"AI\"\n",
    "}\n",
    "for i , j in dic1.items():\n",
    "    print(f\"keys are {i}\\n values are {j}\")\n",
    "#     print(j)"
   ]
  },
  {
   "cell_type": "markdown",
   "metadata": {},
   "source": [
    "# List in dictionary"
   ]
  },
  {
   "cell_type": "code",
   "execution_count": null,
   "metadata": {},
   "outputs": [],
   "source": [
    "books={\n",
    "    \"book1\":\"a\",\n",
    "    \"book2\":\"b\",\n",
    "    \"book3\":\"c\",\n",
    "    \"book4\":[\"d\",\"e\",\"f\",\"g\",\"h\"]\n",
    "}"
   ]
  },
  {
   "cell_type": "markdown",
   "metadata": {},
   "source": [
    "# Dictionary into dictionary"
   ]
  },
  {
   "cell_type": "code",
   "execution_count": null,
   "metadata": {},
   "outputs": [],
   "source": [
    "# Q1: User name and  full name and location using dic into dic"
   ]
  },
  {
   "cell_type": "code",
   "execution_count": 22,
   "metadata": {},
   "outputs": [
    {
     "name": "stdout",
     "output_type": "stream",
     "text": [
      "\n",
      "Username: Aeinsten\n",
      "\tFull name: Albert Aeinsten\n",
      "\tLocation: Princeton\n",
      "\n",
      "Username: Mcuire\n",
      "\tFull name: Marie Curie\n",
      "\tLocation: Paris\n"
     ]
    }
   ],
   "source": [
    "users={\n",
    "    \"Aeinsten\": {\n",
    "        \"First\" : \"Albert\",\n",
    "        \"Last\"  : \"Aeinsten\",       \n",
    "        \"location\" :  'princeton',       \n",
    "    },\n",
    "    \n",
    "    \"Mcuire\" : {\n",
    "        \"First\" : \"marie\",\n",
    "        \"Last\"  : \"curie\",\n",
    "        \"location\" :  'paris',       \n",
    "        \n",
    "    },\n",
    "}\n",
    "for username, user_info in users.items():      \n",
    "    print(\"\\nUsername: \" + username) \n",
    "    Last_name = user_info['First'] + \" \" + user_info['Last']    \n",
    "    location = user_info['location']\n",
    "    print(\"\\tFull name: \" + Last_name.title())   \n",
    "    print(\"\\tLocation: \" + location.title())\n"
   ]
  },
  {
   "cell_type": "code",
   "execution_count": 13,
   "metadata": {},
   "outputs": [],
   "source": []
  },
  {
   "cell_type": "code",
   "execution_count": null,
   "metadata": {},
   "outputs": [],
   "source": []
  },
  {
   "cell_type": "code",
   "execution_count": null,
   "metadata": {},
   "outputs": [],
   "source": [
    "dic1={ key :\n",
    "      \n",
    "      {\n",
    "          SDS : SFDG\n",
    "          SFDSG : DFGF\n",
    "      },\n",
    "      KEY : {\n",
    "          DFDG:SFDF\n",
    "          \n",
    "      }\n",
    "      \n",
    "     \n",
    "     \n",
    "     \n",
    "     }"
   ]
  }
 ],
 "metadata": {
  "kernelspec": {
   "display_name": "Python 3",
   "language": "python",
   "name": "python3"
  },
  "language_info": {
   "codemirror_mode": {
    "name": "ipython",
    "version": 3
   },
   "file_extension": ".py",
   "mimetype": "text/x-python",
   "name": "python",
   "nbconvert_exporter": "python",
   "pygments_lexer": "ipython3",
   "version": "3.7.3"
  }
 },
 "nbformat": 4,
 "nbformat_minor": 2
}
