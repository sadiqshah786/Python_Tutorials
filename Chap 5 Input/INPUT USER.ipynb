{
 "cells": [
  {
   "cell_type": "markdown",
   "metadata": {},
   "source": [
    "# Input by user"
   ]
  },
  {
   "cell_type": "code",
   "execution_count": null,
   "metadata": {},
   "outputs": [],
   "source": [
    "#Input by string  # Asalam o alikum...hand free not me that time sorry but i hope to it will be understandable.."
   ]
  },
  {
   "cell_type": "code",
   "execution_count": null,
   "metadata": {},
   "outputs": [],
   "source": [
    "#we strt from how to take input as a string or char by user....\n",
    "# syntax\n",
    "# var = input(\"Enter your name...: \")  #its syntax... Agr is k andr koi message dyna h dy skty hain"
   ]
  },
  {
   "cell_type": "code",
   "execution_count": 25,
   "metadata": {},
   "outputs": [
    {
     "name": "stdout",
     "output_type": "stream",
     "text": [
      "Enter a no :3\n",
      "Enter a no: 4\n",
      "34\n"
     ]
    }
   ],
   "source": [
    "# Now we do example\n",
    "# declare name vaariable and take input by user\n",
    "# name= input(\"Enter your name please: \") #done...\n",
    "# now \n",
    "# Note: Input box always give u output as a string,even you wrtie int no or float no////..\n",
    "a=input(\"Enter a no :\")\n",
    "b=input(\"Enter a no: \")\n",
    "c=a+b\n",
    "print(c)  # there is 34 bcz both are string 3 and 4....give 34..string can not add....."
   ]
  },
  {
   "cell_type": "markdown",
   "metadata": {},
   "source": []
  },
  {
   "cell_type": "code",
   "execution_count": null,
   "metadata": {},
   "outputs": [],
   "source": [
    "# input by int  (string return us as a input string how we convert string into integer..)"
   ]
  },
  {
   "cell_type": "code",
   "execution_count": 27,
   "metadata": {},
   "outputs": [
    {
     "name": "stdout",
     "output_type": "stream",
     "text": [
      "Enter a no: 3\n",
      "Enter a no: 4\n",
      "7\n"
     ]
    }
   ],
   "source": [
    "a=int(input(\"Enter a no: \") ) #Ow jyust write strt int/\n",
    "b=int(input(\"Enter a no: \"))\n",
    "c=a+b\n",
    "print(c)  # now sucsessfully done...."
   ]
  },
  {
   "cell_type": "code",
   "execution_count": 32,
   "metadata": {},
   "outputs": [
    {
     "name": "stdout",
     "output_type": "stream",
     "text": [
      "Enter a name: sadiq shah\n",
      "Enter your age : 19\n",
      "my name is sadiq shah\n",
      "After one year my age will be 20\n"
     ]
    }
   ],
   "source": [
    "# Example\n",
    "name=input(\"Enter a name: \")\n",
    "age=int(input(\"Enter your age : \")) \n",
    "print(\"my name is \" +  name)\n",
    "print(\"After one year my age will be\", age+1)"
   ]
  },
  {
   "cell_type": "code",
   "execution_count": null,
   "metadata": {},
   "outputs": [],
   "source": [
    "# intput by float"
   ]
  },
  {
   "cell_type": "code",
   "execution_count": 33,
   "metadata": {},
   "outputs": [
    {
     "name": "stdout",
     "output_type": "stream",
     "text": [
      "Enter a float no: 3.5\n",
      "Enter a float no: 3.4\n"
     ]
    }
   ],
   "source": [
    "a=float(input(\"Enter a float no: \"))  #just write in starting float\n",
    "b=float(input(\"Enter a float no: \"))"
   ]
  },
  {
   "cell_type": "code",
   "execution_count": 34,
   "metadata": {},
   "outputs": [
    {
     "ename": "SyntaxError",
     "evalue": "invalid syntax (<ipython-input-34-a27e09e4d79b>, line 1)",
     "output_type": "error",
     "traceback": [
      "\u001b[1;36m  File \u001b[1;32m\"<ipython-input-34-a27e09e4d79b>\"\u001b[1;36m, line \u001b[1;32m1\u001b[0m\n\u001b[1;33m    Note:\u001b[0m\n\u001b[1;37m         ^\u001b[0m\n\u001b[1;31mSyntaxError\u001b[0m\u001b[1;31m:\u001b[0m invalid syntax\n"
     ]
    }
   ],
   "source": [
    "# # Note:\n",
    "# By int input(only int can be input no float or string...)\n",
    "# By float input(U can write int as well as float but not string...)"
   ]
  },
  {
   "cell_type": "code",
   "execution_count": null,
   "metadata": {},
   "outputs": [],
   "source": [
    "# Example"
   ]
  },
  {
   "cell_type": "code",
   "execution_count": 40,
   "metadata": {},
   "outputs": [
    {
     "name": "stdout",
     "output_type": "stream",
     "text": [
      "Enter a name : 5\n",
      "Enter a no int and string6.7\n"
     ]
    }
   ],
   "source": [
    "a=int(input(\"Enter a name : \"))  # BCZ IT CONVERT IN INTEGER...CAN NOT STORE INT AND FLOAT....\n",
    "b=float(input(\"Enter a no int and string\"))  #NOT STIRNG BUT FLOAT NO..CAN B AND INT CAN BE POSSIBLE.."
   ]
  },
  {
   "cell_type": "code",
   "execution_count": null,
   "metadata": {},
   "outputs": [],
   "source": [
    "# i HOPE YOU UNDER STAND/ THANK"
   ]
  },
  {
   "cell_type": "code",
   "execution_count": null,
   "metadata": {},
   "outputs": [],
   "source": []
  },
  {
   "cell_type": "code",
   "execution_count": null,
   "metadata": {},
   "outputs": [],
   "source": []
  },
  {
   "cell_type": "code",
   "execution_count": null,
   "metadata": {},
   "outputs": [],
   "source": []
  },
  {
   "cell_type": "code",
   "execution_count": null,
   "metadata": {},
   "outputs": [],
   "source": []
  }
 ],
 "metadata": {
  "kernelspec": {
   "display_name": "Python 3",
   "language": "python",
   "name": "python3"
  },
  "language_info": {
   "codemirror_mode": {
    "name": "ipython",
    "version": 3
   },
   "file_extension": ".py",
   "mimetype": "text/x-python",
   "name": "python",
   "nbconvert_exporter": "python",
   "pygments_lexer": "ipython3",
   "version": "3.7.3"
  }
 },
 "nbformat": 4,
 "nbformat_minor": 2
}
