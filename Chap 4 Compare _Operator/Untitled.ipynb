{
 "cells": [
  {
   "cell_type": "markdown",
   "metadata": {},
   "source": [
    "# Comparison operators\n"
   ]
  },
  {
   "cell_type": "code",
   "execution_count": null,
   "metadata": {},
   "outputs": [],
   "source": [
    "# TOday our topic is Comparison operators\n",
    "# A operator which compare one value with another is called Comparison operators\n",
    "# We will works on Comparison operators with if elif else\n",
    "# Just understanding"
   ]
  },
  {
   "cell_type": "code",
   "execution_count": null,
   "metadata": {},
   "outputs": [],
   "source": [
    "1. = = (equal equal)\n",
    "Example:\n",
    "    num=12  #Ye hai assignment operator  means hum num me hum ny 12 store kr dya\n",
    "    num<----(12) = = 12    #ab chk kr rhy hain k num me jo 12 hai samny jo num dya hai usk barabar hai ya ni \n",
    "#     ye hum achy sy if me smjhyn gy//"
   ]
  },
  {
   "cell_type": "code",
   "execution_count": null,
   "metadata": {},
   "outputs": [],
   "source": [
    "2.  > and <  (Greater and Less)\n",
    "a=40\n",
    "b=12\n",
    "a>b  # a is not greater b but both equal  means a ==b\n",
    "a>b  # now correct///\n",
    "\n",
    "\n",
    "a<b   # no a is greater than b,Com"
   ]
  },
  {
   "cell_type": "code",
   "execution_count": null,
   "metadata": {},
   "outputs": [],
   "source": [
    " 3. >=  (Greater and equal) Bara b ho or bara brbr b\n",
    "    \n",
    "a=40\n",
    "b=41\n",
    "a > = b   #a is greater than b but not = to b so its wrong.....\n",
    "\n",
    "4. <= (less than and equal) Chota ho or barabr ho\n",
    "\n",
    "a < = b  # a is not less than and not equal///"
   ]
  },
  {
   "cell_type": "code",
   "execution_count": null,
   "metadata": {},
   "outputs": [],
   "source": [
    "# NOw last\n",
    "a=45\n",
    " a!=45    '!' its denoted not means naaaa a=45  a m 45 hai nechy operator hai a me ni hai 45\n",
    "    Answer will be True///\n",
    "    q k a me 45 hai./.\n",
    " a!=34  yes its true both are not equal///\n",
    "Answer will be False\n",
    "We will better understand on if elif and else condtion it was the intro of comp operators"
   ]
  }
 ],
 "metadata": {
  "kernelspec": {
   "display_name": "Python 3",
   "language": "python",
   "name": "python3"
  },
  "language_info": {
   "codemirror_mode": {
    "name": "ipython",
    "version": 3
   },
   "file_extension": ".py",
   "mimetype": "text/x-python",
   "name": "python",
   "nbconvert_exporter": "python",
   "pygments_lexer": "ipython3",
   "version": "3.7.3"
  }
 },
 "nbformat": 4,
 "nbformat_minor": 2
}
