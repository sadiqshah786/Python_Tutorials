{
 "cells": [
  {
   "cell_type": "markdown",
   "metadata": {},
   "source": [
    "# Module operator"
   ]
  },
  {
   "cell_type": "code",
   "execution_count": 13,
   "metadata": {},
   "outputs": [],
   "source": [
    "# Module operator\n",
    "# it is also called reminder operator\n",
    "# it will give us divided's reminder\n",
    "# divide krny k bad jo reminder bachta hai usy hum module operator khty hIain.\n",
    "# module operator denoted by \"%\"\n",
    "# Example:\n",
    "\n"
   ]
  },
  {
   "cell_type": "code",
   "execution_count": 17,
   "metadata": {},
   "outputs": [
    {
     "name": "stdout",
     "output_type": "stream",
     "text": [
      "1\n",
      "1\n",
      "4\n"
     ]
    }
   ],
   "source": [
    " print(10%3)  #agr me 10 ko divide kro 3 sy to mere pass reminder bachy ga wo hoga 1 bcz\n",
    "# 9/3=0 so 10 can not divide it give us 1 reminder\n",
    "\n",
    "print(5%2) #4/2 possible but 5/3 give us 1 output\n",
    "\n",
    "\n",
    "print(10%6)  #??? what it will give \n",
    "             #have you got it????\n",
    "# jb 10/6=4\n",
    "\n",
    "# So jo reminder hota hai module operator wo output dyta hai\n",
    "# THanks Now we will learn the Next Chapter\n",
    "CModule"
   ]
  },
  {
   "cell_type": "markdown",
   "metadata": {},
   "source": [
    "# chapter 7 Math expressions: Eliminating ambiguity\n"
   ]
  },
  {
   "cell_type": "raw",
   "metadata": {},
   "source": [
    "its complex math means all opertors used in this chap"
   ]
  },
  {
   "cell_type": "code",
   "execution_count": 20,
   "metadata": {},
   "outputs": [
    {
     "name": "stdout",
     "output_type": "stream",
     "text": [
      "-1\n"
     ]
    }
   ],
   "source": [
    "# example1\n",
    "# add used with sub:\n",
    "print((3-4)+(4-4))# How is possible,let see\n",
    "# 1,  3-4=-1\n",
    "# 2,  4-4=0  Now both will be add\n",
    "# 3,  -1 + 0=-1"
   ]
  },
  {
   "cell_type": "code",
   "execution_count": 21,
   "metadata": {},
   "outputs": [
    {
     "name": "stdout",
     "output_type": "stream",
     "text": [
      "-1\n"
     ]
    }
   ],
   "source": [
    "print((3+4)-(4+4))\n",
    "# 3+4=7\n",
    "# 4+4=8\n",
    "# 7-8=-1"
   ]
  },
  {
   "cell_type": "code",
   "execution_count": 24,
   "metadata": {},
   "outputs": [
    {
     "name": "stdout",
     "output_type": "stream",
     "text": [
      "16\n"
     ]
    }
   ],
   "source": [
    "# Example 2:\n",
    "# add with multiply\n",
    "print((4*3)+(2*2))\n",
    "# 4*3=12\n",
    "# 2*2=4\n",
    "# answer will be 16\n",
    "    "
   ]
  },
  {
   "cell_type": "code",
   "execution_count": 25,
   "metadata": {},
   "outputs": [
    {
     "name": "stdout",
     "output_type": "stream",
     "text": [
      "8\n"
     ]
    }
   ],
   "source": [
    "print((4*3)-(2*2))\n",
    "\n",
    "# 4*3=12\n",
    "# 2*2=4\n",
    "#8"
   ]
  },
  {
   "cell_type": "code",
   "execution_count": 30,
   "metadata": {},
   "outputs": [
    {
     "name": "stdout",
     "output_type": "stream",
     "text": [
      "17\n"
     ]
    }
   ],
   "source": [
    "# Now add,sub,mul\n",
    "print((3*2)+(3*3) - (2-2)+2)\n"
   ]
  },
  {
   "cell_type": "code",
   "execution_count": null,
   "metadata": {},
   "outputs": [],
   "source": []
  }
 ],
 "metadata": {
  "kernelspec": {
   "display_name": "Python 3",
   "language": "python",
   "name": "python3"
  },
  "language_info": {
   "codemirror_mode": {
    "name": "ipython",
    "version": 3
   },
   "file_extension": ".py",
   "mimetype": "text/x-python",
   "name": "python",
   "nbconvert_exporter": "python",
   "pygments_lexer": "ipython3",
   "version": "3.7.3"
  }
 },
 "nbformat": 4,
 "nbformat_minor": 2
}
