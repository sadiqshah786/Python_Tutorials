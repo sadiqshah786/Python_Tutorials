{
 "cells": [
  {
   "cell_type": "markdown",
   "metadata": {},
   "source": [
    "# CSV (COMMAS SEPRATED VALUES..)"
   ]
  },
  {
   "cell_type": "raw",
   "metadata": {},
   "source": [
    "WE CAN READ BY TWO METHOD...csv FILE\n",
    "i-Reader key word\n",
    "ii- DictReader\n",
    "\n",
    "we can Write by two methods into CSv file\n",
    "i-writer key word\n",
    "ii- DictWriter\n"
   ]
  },
  {
   "cell_type": "markdown",
   "metadata": {},
   "source": [
    "#  CSV  REad File by Reader method"
   ]
  },
  {
   "cell_type": "code",
   "execution_count": 15,
   "metadata": {},
   "outputs": [
    {
     "name": "stdout",
     "output_type": "stream",
     "text": [
      "['dkjskddfjdkfcjhckxj   1st list dataq']\n",
      "['dsfdhcjghgkbnkgdfhcfkgvcdk  # 2nd list daata']\n",
      "[]\n",
      "['We create a file Reader alwys keep extension .csv..  its not showing bcn its not refresh now see']\n"
     ]
    }
   ],
   "source": [
    "# first of all we have to import reader file into this file\n",
    "from csv import reader  #done\n",
    "with open(\"Reader.csv\",'r') as f:  #same perivous..\n",
    "    data_read=reader(f)  # we strore it into variable for print\n",
    "    #print(data_read)  #oh...its give us objec ann adress.....so  reader key word is a itreator...we use loop for it,\n",
    "    for i in data_read:\n",
    "        print(i)  # i me data ja chuka hai...\n",
    "        \n",
    "        \n",
    "#thnx you....\n",
    "    "
   ]
  },
  {
   "cell_type": "code",
   "execution_count": 20,
   "metadata": {},
   "outputs": [
    {
     "name": "stdout",
     "output_type": "stream",
     "text": [
      "['name|email|age|course']\n",
      "['sadiq shah|shahdd@gmail.com|21|AI']\n",
      "[]\n"
     ]
    }
   ],
   "source": [
    "# Example Reader..\n",
    "from csv import reader\n",
    "with open(\"Reader.csv\",\"r\") as f:\n",
    "    data=reader(f)\n",
    "    for i in data:\n",
    "        print(i)\n",
    "# All values are seprated by commas... u can use delimiter for sepration instead ,(|, , ,# ,@) u can use...\n",
    "# THnaks\n"
   ]
  },
  {
   "cell_type": "markdown",
   "metadata": {},
   "source": [
    "# CSV REad File by DictReader method"
   ]
  },
  {
   "cell_type": "code",
   "execution_count": 21,
   "metadata": {},
   "outputs": [
    {
     "name": "stdout",
     "output_type": "stream",
     "text": [
      "OrderedDict([('name|email|age|course', 'sadiq shah|shahdd@gmail.com|21|AI')])\n"
     ]
    }
   ],
   "source": [
    "# Now dic writer give us orderdata in list form./...\n",
    "# same method just during imprt file use DictReader and keyword using dictkey word..\n",
    "from csv import DictReader\n",
    "with open(\"Reader.csv\",\"r\") as f:\n",
    "    data=DictReader(f)\n",
    "    for i in data:\n",
    "        print(i)"
   ]
  },
  {
   "cell_type": "code",
   "execution_count": null,
   "metadata": {},
   "outputs": [],
   "source": [
    "# Simple i hope smjh agya hoga apko just vchange yhn krna hai..Thnks"
   ]
  },
  {
   "cell_type": "code",
   "execution_count": null,
   "metadata": {},
   "outputs": [],
   "source": []
  },
  {
   "cell_type": "markdown",
   "metadata": {},
   "source": [
    "# Write data by CSV file by Writer method method"
   ]
  },
  {
   "cell_type": "code",
   "execution_count": 31,
   "metadata": {},
   "outputs": [],
   "source": [
    "# first of all import file by writer key word\n",
    "from csv import writer\n",
    "with open(\"writer.csv\",\"w\",newline='') as f:\n",
    "    a=writer(f)  #....  it will help to row////  Write row write your rows..in write file...\n",
    "    a.writerow(['name','age','cno'])\n",
    "    a.writerow(['sadiq sah',21,'43563457465'])\n",
    "    a.writerow(['Ali',24,'032128838383'])\n",
    "       # in write u can write only one row...\n",
    "        #there is many distance b/w lines so we use newlines...\n",
    "    \n",
    "    \n",
    "    \n",
    "    \n",
    "    #now what u want to write but u know in csv file data will store in the form of list to we add data by list\n",
    "#     now use key word writer no need to store any varible\n",
    "\n",
    "#so u see how to add data into csv file byy write method thnx..\n"
   ]
  },
  {
   "cell_type": "markdown",
   "metadata": {},
   "source": [
    "# Write data by CSV file by DictWriter  method method"
   ]
  },
  {
   "cell_type": "code",
   "execution_count": 45,
   "metadata": {},
   "outputs": [],
   "source": [
    "# same as above\n",
    "# import DirectWriter"
   ]
  },
  {
   "cell_type": "code",
   "execution_count": 48,
   "metadata": {},
   "outputs": [],
   "source": [
    "from csv import DictWriter\n",
    "with open('writer.csv','w',newline='') as f:\n",
    "    write_data=DictWriter(f,fieldnames=['name','age','course']) #here field name have to give before///its nessary..\n",
    "    write_data.writeheader()  # header its inculde your attributes(name,age course...)\n",
    "    write_data.writerow({   #now add rows dictoinary bcz its dittionary..we stor data in the form of dic..\n",
    "        'name' : \"sadiq shhah\",\n",
    "        'age'  : 21,\n",
    "        'course': \"AI\"     #1st row\n",
    "    })\n",
    "    \n",
    "    write_data.writerow({\n",
    "        'name' : \"ALI\",\n",
    "        'age'  : 22,\n",
    "        'course': \"AI\"    #2nd row\n",
    "    })\n",
    "        \n",
    "    write_data.writerow({\n",
    "        'name' : \"Kashif\",\n",
    "        'age'  : 23,\n",
    "        'course': \"AI\"    #3rd row\n",
    "    })\n",
    "   \n",
    "    \n",
    "   "
   ]
  },
  {
   "cell_type": "code",
   "execution_count": null,
   "metadata": {},
   "outputs": [],
   "source": []
  },
  {
   "cell_type": "code",
   "execution_count": null,
   "metadata": {},
   "outputs": [],
   "source": []
  },
  {
   "cell_type": "code",
   "execution_count": null,
   "metadata": {},
   "outputs": [],
   "source": []
  },
  {
   "cell_type": "code",
   "execution_count": null,
   "metadata": {},
   "outputs": [],
   "source": []
  },
  {
   "cell_type": "code",
   "execution_count": null,
   "metadata": {},
   "outputs": [],
   "source": []
  },
  {
   "cell_type": "code",
   "execution_count": null,
   "metadata": {},
   "outputs": [],
   "source": []
  },
  {
   "cell_type": "code",
   "execution_count": null,
   "metadata": {},
   "outputs": [],
   "source": []
  },
  {
   "cell_type": "code",
   "execution_count": null,
   "metadata": {},
   "outputs": [],
   "source": []
  },
  {
   "cell_type": "code",
   "execution_count": null,
   "metadata": {},
   "outputs": [],
   "source": []
  }
 ],
 "metadata": {
  "kernelspec": {
   "display_name": "Python 3",
   "language": "python",
   "name": "python3"
  },
  "language_info": {
   "codemirror_mode": {
    "name": "ipython",
    "version": 3
   },
   "file_extension": ".py",
   "mimetype": "text/x-python",
   "name": "python",
   "nbconvert_exporter": "python",
   "pygments_lexer": "ipython3",
   "version": "3.7.3"
  }
 },
 "nbformat": 4,
 "nbformat_minor": 2
}
