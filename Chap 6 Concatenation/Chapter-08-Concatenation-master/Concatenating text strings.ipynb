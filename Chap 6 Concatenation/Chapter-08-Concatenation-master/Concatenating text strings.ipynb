{
 "cells": [
  {
   "cell_type": "markdown",
   "metadata": {},
   "source": [
    "# Concatenating text strings\n"
   ]
  },
  {
   "cell_type": "code",
   "execution_count": null,
   "metadata": {},
   "outputs": [],
   "source": [
    "# Concatenate means Combination/TOgether....\n",
    "# concatenate denoted by \"+ \"\n",
    "# Only string to string can concatenate\n",
    "# No integer or string can concatenate\n",
    "# Lets look an example"
   ]
  },
  {
   "cell_type": "code",
   "execution_count": 5,
   "metadata": {},
   "outputs": [
    {
     "name": "stdout",
     "output_type": "stream",
     "text": [
      "Sheryar How are You??\n"
     ]
    }
   ],
   "source": [
    "# Q1: Create a variable of your frnd name and assign value in it and ask about your friend.\n",
    "\n",
    "friend_name=\"Sheryar\"  # variable sheryar is string and HOw are you also is string both concatenate and asnwer is:\n",
    "print(friend_name +\" \" + \"How are You??\" ) #Now Concatenating....\n",
    "# Now problem is that sheryar and how are you close together....\n",
    "# so we concatenate \"\" empty qoutes for space\n",
    "\n"
   ]
  },
  {
   "cell_type": "code",
   "execution_count": 9,
   "metadata": {},
   "outputs": [
    {
     "name": "stdout",
     "output_type": "stream",
     "text": [
      "12 my fav no\n"
     ]
    }
   ],
   "source": [
    "# Number can not be concatenate\n",
    "num='12'\n",
    "print(num +\" \"  + \"my fav no\")\n",
    "# its show type error if we make 12 as a string it will be concatenate\n",
    "# NOw it will be run\n",
    "# i hope you understand"
   ]
  },
  {
   "cell_type": "code",
   "execution_count": 11,
   "metadata": {},
   "outputs": [
    {
     "name": "stdout",
     "output_type": "stream",
     "text": [
      "Sadiq Shah\n"
     ]
    }
   ],
   "source": [
    "# Q3:Mention your first name last name in variable name and print with message my name is etc.\n",
    "first_name=\"Sadiq\"\n",
    "last_name=\"Shah\"\n",
    "name=first_name + \" \" + last_name    #both are concatenate not add....\n",
    "print(name)\n",
    "#no space bw so we concatenate \" empty space\"\n",
    "\n",
    "\n",
    "# I hope you understand"
   ]
  },
  {
   "cell_type": "code",
   "execution_count": null,
   "metadata": {},
   "outputs": [],
   "source": []
  }
 ],
 "metadata": {
  "kernelspec": {
   "display_name": "Python 3",
   "language": "python",
   "name": "python3"
  },
  "language_info": {
   "codemirror_mode": {
    "name": "ipython",
    "version": 3
   },
   "file_extension": ".py",
   "mimetype": "text/x-python",
   "name": "python",
   "nbconvert_exporter": "python",
   "pygments_lexer": "ipython3",
   "version": "3.7.3"
  }
 },
 "nbformat": 4,
 "nbformat_minor": 2
}
