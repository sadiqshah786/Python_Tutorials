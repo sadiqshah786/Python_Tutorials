{
 "cells": [
  {
   "cell_type": "markdown",
   "metadata": {},
   "source": [
    "# if Statement"
   ]
  },
  {
   "cell_type": "code",
   "execution_count": 2,
   "metadata": {},
   "outputs": [],
   "source": [
    "#  == (equal)\n",
    "# >  Greater Than\n",
    "# < Less than\n",
    "# >= greater than equal\n",
    "# <= less than equal\n",
    "# != not equal"
   ]
  },
  {
   "cell_type": "raw",
   "metadata": {},
   "source": [
    "Q1: my age is 18 if my age is 18 so you should go to NADRA for Make your CNIC?\n",
    "age=18\n",
    "#if (condtion) :\n",
    "    #code"
   ]
  },
  {
   "cell_type": "code",
   "execution_count": 1,
   "metadata": {},
   "outputs": [
    {
     "name": "stdout",
     "output_type": "stream",
     "text": [
      "You should go to NADRA for Make your CNIC\n"
     ]
    }
   ],
   "source": [
    "age =18\n",
    "if age == 18:\n",
    "    print(\"You should go to NADRA for Make your CNIC\")  #shift+enter"
   ]
  },
  {
   "cell_type": "code",
   "execution_count": null,
   "metadata": {},
   "outputs": [],
   "source": []
  },
  {
   "cell_type": "code",
   "execution_count": 5,
   "metadata": {},
   "outputs": [
    {
     "name": "stdout",
     "output_type": "stream",
     "text": [
      "ABC\n"
     ]
    }
   ],
   "source": [
    "age =20\n",
    "if age == 18:\n",
    "    print(True)  #shift+enter\n",
    "else:\n",
    "    print(\"ABC\")"
   ]
  },
  {
   "cell_type": "code",
   "execution_count": 8,
   "metadata": {},
   "outputs": [],
   "source": [
    "# Greater than.....\n",
    "age =18\n",
    "if age> 18:\n",
    "    print(\"you are able to make a CNIC\")\n"
   ]
  },
  {
   "cell_type": "code",
   "execution_count": 9,
   "metadata": {},
   "outputs": [
    {
     "name": "stdout",
     "output_type": "stream",
     "text": [
      "yes,Greater\n"
     ]
    }
   ],
   "source": [
    "num=3\n",
    "if num >2:\n",
    "    print(\"yes,Greater\")"
   ]
  },
  {
   "cell_type": "code",
   "execution_count": 10,
   "metadata": {},
   "outputs": [
    {
     "name": "stdout",
     "output_type": "stream",
     "text": [
      "you are not able to make a CNIC,please go NADRA after 18\n"
     ]
    }
   ],
   "source": [
    "#less than\n",
    "age =17\n",
    "if age < 18:\n",
    "    print(\"you are not able to make a CNIC,please go NADRA after 18\")\n",
    "\n"
   ]
  },
  {
   "cell_type": "code",
   "execution_count": 11,
   "metadata": {},
   "outputs": [
    {
     "name": "stdout",
     "output_type": "stream",
     "text": [
      "you can make CNIC\n"
     ]
    }
   ],
   "source": [
    "# Greater than and Equal\n",
    "age=20\n",
    "if age >=18:   #20 == 18  and \n",
    "    print(\"you can make CNIC\")"
   ]
  },
  {
   "cell_type": "code",
   "execution_count": 13,
   "metadata": {},
   "outputs": [
    {
     "name": "stdout",
     "output_type": "stream",
     "text": [
      "you can make CNIC\n"
     ]
    }
   ],
   "source": [
    "#less than and =\n",
    "\n",
    "age=17\n",
    "if age <=18:   #20 == 18  and \n",
    "    print(\"you can make CNIC\")"
   ]
  },
  {
   "cell_type": "code",
   "execution_count": 17,
   "metadata": {},
   "outputs": [
    {
     "name": "stdout",
     "output_type": "stream",
     "text": [
      "i can go to the buliding without lift\n"
     ]
    }
   ],
   "source": [
    "# not equal\n",
    "weight=60\n",
    "if weight!= 50:\n",
    "    print(\"i can go to the buliding without lift\")"
   ]
  },
  {
   "cell_type": "code",
   "execution_count": 21,
   "metadata": {},
   "outputs": [
    {
     "name": "stdout",
     "output_type": "stream",
     "text": [
      "True\n"
     ]
    }
   ],
   "source": [
    "name=\"sadiq shah\"\n",
    "if name!= \"sadiq sha\":\n",
    "    print(\"True\")"
   ]
  },
  {
   "cell_type": "code",
   "execution_count": 23,
   "metadata": {},
   "outputs": [],
   "source": [
    "num=0.34\n",
    "if num == 0.54:\n",
    "    print(\"yes its float no: \")"
   ]
  },
  {
   "cell_type": "code",
   "execution_count": null,
   "metadata": {},
   "outputs": [],
   "source": []
  }
 ],
 "metadata": {
  "kernelspec": {
   "display_name": "Python 3",
   "language": "python",
   "name": "python3"
  },
  "language_info": {
   "codemirror_mode": {
    "name": "ipython",
    "version": 3
   },
   "file_extension": ".py",
   "mimetype": "text/x-python",
   "name": "python",
   "nbconvert_exporter": "python",
   "pygments_lexer": "ipython3",
   "version": "3.7.3"
  }
 },
 "nbformat": 4,
 "nbformat_minor": 2
}
