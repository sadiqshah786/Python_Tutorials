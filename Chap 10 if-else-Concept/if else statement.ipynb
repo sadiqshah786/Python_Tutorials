{
 "cells": [
  {
   "cell_type": "markdown",
   "metadata": {},
   "source": [
    "# if-else statement"
   ]
  },
  {
   "cell_type": "code",
   "execution_count": null,
   "metadata": {},
   "outputs": [],
   "source": [
    "# if age ye na ho to else....\n",
    "# syntax:\n",
    "#     if (condtion):  false /true\n",
    "#     code\n",
    "#     else :\n",
    "#         code  True"
   ]
  },
  {
   "cell_type": "raw",
   "metadata": {},
   "source": [
    "Q1:Create a variable  percentage and assign percentage according to grade:\n",
    "if percenntage equal according to your percentage so assign grade according to percentage."
   ]
  },
  {
   "cell_type": "code",
   "execution_count": 187,
   "metadata": {},
   "outputs": [
    {
     "name": "stdout",
     "output_type": "stream",
     "text": [
      "YOUR  garde is stil A1\n"
     ]
    }
   ],
   "source": [
    "per=81\n",
    "if per == 80:  #false\n",
    "    print(\"your percentage is 80 and your grade is A1\")\n",
    "else: #true\n",
    "    print('YOUR  garde is still A1')\n",
    "    \n"
   ]
  },
  {
   "cell_type": "raw",
   "metadata": {},
   "source": [
    "Q2:make a program 1 kg rice is 65 rupess if rice is greate than 65 i will not purchase rice,because its too high,\n",
    "else purchased it.\n"
   ]
  },
  {
   "cell_type": "code",
   "execution_count": 192,
   "metadata": {},
   "outputs": [
    {
     "name": "stdout",
     "output_type": "stream",
     "text": [
      "i will not purchase rice,because its too high\n"
     ]
    }
   ],
   "source": [
    "rice=65    #65rupy=1kg\n",
    "if rice != 65:\n",
    "    print(\"Purchase the rice\")  #true\n",
    "else:\n",
    "    print(\"i will not purchase rice,because its too high\") #true"
   ]
  },
  {
   "cell_type": "raw",
   "metadata": {},
   "source": [
    "Q3:what is your name??? name is ali and ali live in karachi, \n",
    "if ali live in karachi give message yes,karachi is best city\n",
    "else, i dont know about other cites."
   ]
  },
  {
   "cell_type": "code",
   "execution_count": 194,
   "metadata": {},
   "outputs": [
    {
     "name": "stdout",
     "output_type": "stream",
     "text": [
      "I dn't know about the other cities\n"
     ]
    }
   ],
   "source": [
    "city='karachi'   #\"karachi\"\n",
    "if city == \"Hyderabad\":\n",
    "    print(\"Karachi is the best city\")\n",
    "else:\n",
    "    print(\"I dn't know about the other cities\")"
   ]
  },
  {
   "cell_type": "code",
   "execution_count": null,
   "metadata": {},
   "outputs": [],
   "source": []
  },
  {
   "cell_type": "raw",
   "metadata": {},
   "source": [
    "Q4:Karachi is the biggest city of Sindh,if karachi is not biggest city so print \"I belive karachi is biggest city\n",
    "else not biggest city."
   ]
  },
  {
   "cell_type": "code",
   "execution_count": 201,
   "metadata": {},
   "outputs": [
    {
     "name": "stdout",
     "output_type": "stream",
     "text": [
      "Not biggest city\n"
     ]
    }
   ],
   "source": [
    "biggest_city=\"karachi\"\n",
    "if biggest_city  ==  \"Lahore\":\n",
    "    print(\"Yes karachi is the biggest city of sindh\")\n",
    "else:\n",
    "    print(\"Not biggest city\")"
   ]
  },
  {
   "cell_type": "code",
   "execution_count": null,
   "metadata": {},
   "outputs": [],
   "source": []
  },
  {
   "cell_type": "code",
   "execution_count": null,
   "metadata": {},
   "outputs": [],
   "source": []
  },
  {
   "cell_type": "code",
   "execution_count": null,
   "metadata": {},
   "outputs": [],
   "source": []
  },
  {
   "cell_type": "code",
   "execution_count": null,
   "metadata": {},
   "outputs": [],
   "source": []
  },
  {
   "cell_type": "code",
   "execution_count": null,
   "metadata": {},
   "outputs": [],
   "source": []
  },
  {
   "cell_type": "code",
   "execution_count": null,
   "metadata": {},
   "outputs": [],
   "source": []
  },
  {
   "cell_type": "code",
   "execution_count": null,
   "metadata": {},
   "outputs": [],
   "source": []
  }
 ],
 "metadata": {
  "kernelspec": {
   "display_name": "Python 3",
   "language": "python",
   "name": "python3"
  },
  "language_info": {
   "codemirror_mode": {
    "name": "ipython",
    "version": 3
   },
   "file_extension": ".py",
   "mimetype": "text/x-python",
   "name": "python",
   "nbconvert_exporter": "python",
   "pygments_lexer": "ipython3",
   "version": "3.7.3"
  }
 },
 "nbformat": 4,
 "nbformat_minor": 2
}
