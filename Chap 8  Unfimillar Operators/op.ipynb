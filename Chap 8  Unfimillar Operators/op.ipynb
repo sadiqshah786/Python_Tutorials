{
 "cells": [
  {
   "cell_type": "markdown",
   "metadata": {},
   "source": [
    "\n",
    "# Module operator(Un fimillar Operators)"
   ]
  },
  {
   "cell_type": "code",
   "execution_count": 13,
   "metadata": {},
   "outputs": [],
   "source": [
    "# Module operator\n",
    "# it is also called reminder operator\n",
    "# it will give us divided's reminder\n",
    "# divide krny k bad jo reminder bachta hai usy hum module operator khty hIain.\n",
    "# module operator denoted by \"%\"\n",
    "# Example:\n",
    "\n"
   ]
  },
  {
   "cell_type": "code",
   "execution_count": 17,
   "metadata": {},
   "outputs": [
    {
     "name": "stdout",
     "output_type": "stream",
     "text": [
      "1\n",
      "1\n",
      "4\n"
     ]
    }
   ],
   "source": [
    " print(10%3)  #agr me 10 ko divide kro 3 sy to mere pass reminder bachy ga wo hoga 1 bcz\n",
    "# 9/3=0 so 10 can not divide it give us 1 reminder\n",
    "\n",
    "print(5%2) #4/2 possible but 5/3 give us 1 output\n",
    "\n",
    "\n",
    "print(10%6)  #??? what it will give \n",
    "             #have you got it????\n",
    "# jb 10/6=4\n",
    "\n",
    "# So jo reminder hota hai module operator wo output dyta hai\n",
    "# THanks Now we will learn the Next Chapter\n"
   ]
  },
  {
   "cell_type": "markdown",
   "metadata": {},
   "source": [
    "# Increment and decrement operators (Un fimillar Operators)"
   ]
  },
  {
   "cell_type": "code",
   "execution_count": 13,
   "metadata": {},
   "outputs": [],
   "source": [
    "# There are two types of increment or decrement operators in programing language\n",
    "# - post increment/decrement(Not Discuss in book)\n",
    "# -Pre increment/decrement  (Discuss in python book)\n",
    "\n",
    "# Pre increment means  phle increment krn gy or btyn gy kitny increment krna ahai (Ziada krna)\n",
    "#pre decrement means phle decrement krn gy or btyn gy kitny decrement krna hai (Kam Krna)\n",
    "\n",
    "#example sy dekhty hain\n"
   ]
  },
  {
   "cell_type": "code",
   "execution_count": 1,
   "metadata": {},
   "outputs": [
    {
     "name": "stdout",
     "output_type": "stream",
     "text": [
      "12\n",
      "12\n",
      "300\n"
     ]
    }
   ],
   "source": [
    "# Pre increment means  phle increment krn gy or btyn gy kitny increment krna ahai (Ziada krna)\n",
    "# Q1:Create a variable workers and assign 10 ,they working together after two days 2 workers more working togther\n",
    "#     how many worker are doing works.\n",
    "workers=12\n",
    "#Now adding or increment 2\n",
    "workers=10+2  # you can do like that\n",
    "print(workers) #12 answer\n",
    "\n",
    "# You can also do like that\n",
    "# its called pre post method\n",
    "workers=10\n",
    "workers+=2\n",
    "print(workers)  # same output\n",
    "\n",
    "\n",
    "# Q2: I have 100 rupess my father give me more 200 rupes,Now i have?\n",
    "Rupess=100\n",
    "Rupess+=200  #after adding 200 got from papa\n",
    "print(Rupess)  #answer is 300\n",
    "# it is the concpt of pre post increment"
   ]
  },
  {
   "cell_type": "code",
   "execution_count": 33,
   "metadata": {},
   "outputs": [
    {
     "name": "stdout",
     "output_type": "stream",
     "text": [
      "1\n",
      "3000\n",
      "10000\n",
      "Multiply\n",
      "25\n",
      "50\n",
      "10\n"
     ]
    }
   ],
   "source": [
    "# # Pre decrement\n",
    "# Q1:I buy one pent and and two shirts,after purshed shirt i want to know shirt is not good,i want to retrun \n",
    "#     the shirt by using pre decrement method to retrun shirt again\n",
    "two_shirts=2\n",
    "#return\n",
    "two_shirts-=1\n",
    "print(two_shirts)  # one shrt is return...\n",
    "\n",
    "\n",
    "# Q2:My salary is 7000 and i got 1000 so,i said to boss my salary is 7000 why you giving me 1000 so boss said sorry\n",
    "#     im deduct te amount form it by using pre decrement method...\n",
    "salary=10000\n",
    "salary-=7000\n",
    "print(salary)   #it is mine salary \n",
    "# my boss retrun from me 3000 and said to me take him and do enjoy so use pre increment to add 3000 in 7000\n",
    "salary=7000\n",
    "salary+=3000\n",
    "print(salary)\n",
    "\n",
    "#hurry got enjoy/./////my sarly will be 10000 \n",
    "#\n",
    "# Now you can Multiply by using pre Multiply method.....# \n",
    "print(\"Multiply\")\n",
    "a=5\n",
    "a*=5   #* multiply operator\n",
    "print(a)\n",
    "\n",
    "number=10\n",
    "number*=5\n",
    "print(number)\n",
    "\n",
    "count=1\n",
    "count*=10\n",
    "print(count)\n",
    "\n",
    "\n",
    "#thanks  you.....\n",
    "Mene ye vedio phle record ki thi kaam krty wqt but wo ni chlai is lye agli recording kr k bny hwe kam par\n",
    "just over view lia itna  muskil ni i hope ap smjh gye hongy thanks\n",
    "\n"
   ]
  },
  {
   "cell_type": "code",
   "execution_count": null,
   "metadata": {},
   "outputs": [],
   "source": []
  },
  {
   "cell_type": "code",
   "execution_count": null,
   "metadata": {},
   "outputs": [],
   "source": []
  },
  {
   "cell_type": "markdown",
   "metadata": {},
   "source": [
    "# chapter 7 Math expressions: Eliminating ambiguity\n"
   ]
  },
  {
   "cell_type": "raw",
   "metadata": {},
   "source": [
    "its complex math means all opertors used in this chap"
   ]
  },
  {
   "cell_type": "code",
   "execution_count": 20,
   "metadata": {},
   "outputs": [
    {
     "name": "stdout",
     "output_type": "stream",
     "text": [
      "-1\n"
     ]
    }
   ],
   "source": [
    "# example1\n",
    "# add used with sub:\n",
    "print((3-4)+(4-4))# How is possible,let see\n",
    "# 1,  3-4=-1\n",
    "# 2,  4-4=0  Now both will be add\n",
    "# 3,  -1 + 0=-1"
   ]
  },
  {
   "cell_type": "code",
   "execution_count": 21,
   "metadata": {},
   "outputs": [
    {
     "name": "stdout",
     "output_type": "stream",
     "text": [
      "-1\n"
     ]
    }
   ],
   "source": [
    "print((3+4)-(4+4))\n",
    "# 3+4=7\n",
    "# 4+4=8\n",
    "# 7-8=-1"
   ]
  },
  {
   "cell_type": "code",
   "execution_count": 24,
   "metadata": {},
   "outputs": [
    {
     "name": "stdout",
     "output_type": "stream",
     "text": [
      "16\n"
     ]
    }
   ],
   "source": [
    "# Example 2:\n",
    "# add with multiply\n",
    "print((4*3)+(2*2))\n",
    "# 4*3=12\n",
    "# 2*2=4\n",
    "# answer will be 16\n",
    "    "
   ]
  },
  {
   "cell_type": "code",
   "execution_count": 25,
   "metadata": {},
   "outputs": [
    {
     "name": "stdout",
     "output_type": "stream",
     "text": [
      "8\n"
     ]
    }
   ],
   "source": [
    "print((4*3)-(2*2))\n",
    "\n",
    "# 4*3=12\n",
    "# 2*2=4\n",
    "#8"
   ]
  },
  {
   "cell_type": "code",
   "execution_count": 30,
   "metadata": {},
   "outputs": [
    {
     "name": "stdout",
     "output_type": "stream",
     "text": [
      "17\n"
     ]
    }
   ],
   "source": [
    "# Now add,sub,mul\n",
    "print((3*2)+(3*3) - (2-2)+2)\n"
   ]
  },
  {
   "cell_type": "code",
   "execution_count": null,
   "metadata": {},
   "outputs": [],
   "source": []
  }
 ],
 "metadata": {
  "kernelspec": {
   "display_name": "Python 3",
   "language": "python",
   "name": "python3"
  },
  "language_info": {
   "codemirror_mode": {
    "name": "ipython",
    "version": 3
   },
   "file_extension": ".py",
   "mimetype": "text/x-python",
   "name": "python",
   "nbconvert_exporter": "python",
   "pygments_lexer": "ipython3",
   "version": "3.7.3"
  }
 },
 "nbformat": 4,
 "nbformat_minor": 2
}
