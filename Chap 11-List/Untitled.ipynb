{
 "cells": [
  {
   "cell_type": "markdown",
   "metadata": {},
   "source": [
    "# LIST POP"
   ]
  },
  {
   "cell_type": "code",
   "execution_count": 9,
   "metadata": {},
   "outputs": [
    {
     "ename": "IndexError",
     "evalue": "pop from empty list",
     "output_type": "error",
     "traceback": [
      "\u001b[1;31m---------------------------------------------------------------------------\u001b[0m",
      "\u001b[1;31mIndexError\u001b[0m                                Traceback (most recent call last)",
      "\u001b[1;32m<ipython-input-9-995e2f70d19a>\u001b[0m in \u001b[0;36m<module>\u001b[1;34m\u001b[0m\n\u001b[0;32m     17\u001b[0m \u001b[0ma\u001b[0m\u001b[1;33m.\u001b[0m\u001b[0mpop\u001b[0m\u001b[1;33m(\u001b[0m\u001b[1;33m)\u001b[0m  \u001b[1;31m# ab koi b element bqai ni to error aye ga\\\u001b[0m\u001b[1;33m\u001b[0m\u001b[1;33m\u001b[0m\u001b[0m\n\u001b[0;32m     18\u001b[0m \u001b[1;33m\u001b[0m\u001b[0m\n\u001b[1;32m---> 19\u001b[1;33m \u001b[0ma\u001b[0m\u001b[1;33m.\u001b[0m\u001b[0mpop\u001b[0m\u001b[1;33m(\u001b[0m\u001b[1;33m)\u001b[0m\u001b[1;33m\u001b[0m\u001b[1;33m\u001b[0m\u001b[0m\n\u001b[0m",
      "\u001b[1;31mIndexError\u001b[0m: pop from empty list"
     ]
    }
   ],
   "source": [
    "# # pop is a keyword which is used to pick the value or item from the list....\n",
    "# pop works on the basis of LIFO(last in first out) jo last me hai usy phle pick kia jata hai jese....\n",
    "\n",
    "a=[4,5,6,7,7,8]\n",
    "a.pop()    #a ye hmari list hai and . pop() jhn sy pick krna hai\n",
    "\n",
    "# us ny lst element ko pop kr lia\n",
    "\n",
    "a.pop()   # ab us ny 8 k bad 7 ko pop kia\n",
    "\n",
    "a.pop() # ab us ny 7 k bad 7 ko pop kia\n",
    "\n",
    "a.pop()  # ab us ny 7 k bad 6 ko pop kia\n",
    "\n",
    "a.pop()\n",
    "\n",
    "a.pop()  # ab koi b element bqai ni to error aye ga\\\n",
    "\n",
    "a.pop()   #IndexError   koi element hi ni list me so no index is lye index erorr\n",
    "\n",
    "\n",
    "# ab hum chty hain apni marzi sy kese b index ko utha lyn....\n",
    "\n",
    "\n"
   ]
  },
  {
   "cell_type": "code",
   "execution_count": 19,
   "metadata": {},
   "outputs": [
    {
     "name": "stdout",
     "output_type": "stream",
     "text": [
      "My 1st poped element is:faisal\n",
      "My 2nd poped element is:Kashif\n",
      "My 3rd poped element is:Ali\n",
      "My 4th poped element is:sadiq\n"
     ]
    }
   ],
   "source": [
    "name=['sadiq','Ali','Kashif','faisal']\n",
    "    #  0        1     2        3\n",
    "poped_element=name.pop(3)  # hmn 3 par mojood faisal kom print krna ah to hum faisal ka inde likhy gy\n",
    "\n",
    "#faisal poped hogya ab me chata hu ye poped hony k bad me ese use kro to ab simple poped ko variable\n",
    "# me store kr dyn\n",
    "#ab apka faisal poped element me hai\n",
    "print(\"My 1st poped element is:\" + poped_element)  # ab hum print krty hain kia waqie agya ya ni\n",
    "\n",
    "# ab me chata hu kashif ko poped krna to\n",
    "\n",
    "poped_element=name.pop(2)\n",
    "print(\"My 2nd poped element is:\" + poped_element) \n",
    "\n",
    "\n",
    "poped_element=name.pop(1)\n",
    "print(\"My 3rd poped element is:\" + poped_element) \n",
    "\n",
    "poped_element=name.pop(0)\n",
    "print(\"My 4th poped element is:\" + poped_element) \n",
    "\n",
    "# i hope apko smjh agya hoga....\n",
    "# thanks you////\n",
    "\n",
    "# ye tha poping... the elements\n"
   ]
  },
  {
   "cell_type": "code",
   "execution_count": null,
   "metadata": {},
   "outputs": [],
   "source": [
    "\n"
   ]
  }
 ],
 "metadata": {
  "kernelspec": {
   "display_name": "Python 3",
   "language": "python",
   "name": "python3"
  },
  "language_info": {
   "codemirror_mode": {
    "name": "ipython",
    "version": 3
   },
   "file_extension": ".py",
   "mimetype": "text/x-python",
   "name": "python",
   "nbconvert_exporter": "python",
   "pygments_lexer": "ipython3",
   "version": "3.7.3"
  }
 },
 "nbformat": 4,
 "nbformat_minor": 2
}
