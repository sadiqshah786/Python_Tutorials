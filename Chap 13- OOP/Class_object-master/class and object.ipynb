{
 "cells": [
  {
   "cell_type": "markdown",
   "metadata": {},
   "source": [
    "# class and object"
   ]
  },
  {
   "cell_type": "code",
   "execution_count": 143,
   "metadata": {},
   "outputs": [],
   "source": [
    "class Student():\n",
    "    def __init__(self,name,fname,cNo,CNIC,Course):\n",
    "        self.std_name=name\n",
    "        self.std_fname=fname\n",
    "        self.std_cNo=cNo\n",
    "        self.std_CNIC=CNIC\n",
    "        self.std_Course=Course\n",
    "    def student1_info(self):\n",
    "            print(\"==========================\")\n",
    "            print(\"Information of 1st student\")\n",
    "            print(\"==========================\")\n",
    "            print(f\"Studnet name is : {self.std_name}\")\n",
    "            print(f\"Studnet  faher name is : {self.std_fname}\")\n",
    "            print(f\"Studnet  Contact Number is : {a.std_cNo}\")\n",
    "            print(f\"Studnet CNIC Number is : {a.std_CNIC}\")\n",
    "            print(f\"Studnet Course is : {a.std_Course}\")\n",
    "    \n",
    "    def student2_info(self):\n",
    "            print(\"==========================\")\n",
    "            print(\"Information of 2ND student\")\n",
    "            print(\"==========================\")\n",
    "            print(f\"Studnet name is : {s2.std_name}\")\n",
    "            print(f\"Studnet  faher name is : {self.std_fname}\")\n",
    "            print(f\"Studnet  Contact Number is : {s2.std_cNo}\")\n",
    "            print(f\"Studnet CNIC Number is : {s2.std_CNIC}\")\n",
    "            print(f\"Studnet Course is : {s2.std_Course}\")\n",
    "#             print(\"\\n\")\n",
    "#     def student3_info(self):\n",
    "#             print(\"==========================\")\n",
    "#             print(\"Information of 3RD student\")\n",
    "#             print(\"==========================\")\n",
    "#             print(f\"Studnet name is : {s3.std_name}\")\n",
    "#             print(f\"Studnet  faher name is : {s3.std_fname}\")\n",
    "#             print(f\"Studnet  Contact Number is : {s3.std_cNo}\")\n",
    "#             print(f\"Studnet CNIC Number is : {s3.std_CNIC}\")\n",
    "#             print(f\"Studnet Course is : {s3.std_Course}\")\n",
    "#     def student4_info(self):\n",
    "#             print(\"==========================\")\n",
    "#             print(\"Information of 4TH student\")\n",
    "#             print(\"==========================\")\n",
    "#             print(f\"Studnet name is : {s4.std_name}\")\n",
    "#             print(f\"Studnet  faher name is : {s4.std_fname}\")\n",
    "#             print(f\"Studnet  Contact Number is : {s4.std_cNo}\")\n",
    "#             print(f\"Studnet CNIC Number is : {s4.std_CNIC}\")\n",
    "#             print(f\"Studnet Course is : {s4.std_Course}\")\n",
    "#     def student5_info(self):\n",
    "#             print(\"==========================\")\n",
    "#             print(\"Information of 5TH student\")\n",
    "#             print(\"==========================\")\n",
    "#             print(f\"Studnet name is : {s5.std_name}\")\n",
    "#             print(f\"Studnet  faher name is : {s5.std_fname}\")\n",
    "#             print(f\"Studnet  Contact Number is : {s5.std_cNo}\")\n",
    "#             print(f\"Studnet CNIC Number is : {s5.std_CNIC}\")\n",
    "#             print(f\"Studnet Course is : {s5.std_Course}\")\n",
    "        \n",
    "    \n",
    "        \n",
    "      \n",
    "    "
   ]
  },
  {
   "cell_type": "code",
   "execution_count": 146,
   "metadata": {},
   "outputs": [
    {
     "name": "stdout",
     "output_type": "stream",
     "text": [
      "==========================\n",
      "Information of 1st student\n",
      "==========================\n",
      "Studnet name is : sadiq shah\n",
      "Studnet  faher name is : Naseeb shah\n",
      "Studnet  Contact Number is : 45467\n",
      "Studnet CNIC Number is : 4567\n",
      "Studnet Course is : AI\n",
      "==========================\n",
      "Information of 2ND student\n",
      "==========================\n",
      "Studnet name is : sadiq shah\n",
      "Studnet  faher name is : Nas shah\n",
      "Studnet  Contact Number is : 45467\n",
      "Studnet CNIC Number is : 454444447\n",
      "Studnet Course is : AI\n",
      "==========================\n",
      "Information of 1st student\n",
      "==========================\n",
      "Studnet name is : sadiq shah\n",
      "Studnet  faher name is : Nas shah\n",
      "Studnet  Contact Number is : 45467\n",
      "Studnet CNIC Number is : 4567\n",
      "Studnet Course is : AI\n"
     ]
    }
   ],
   "source": [
    "a=Student(\"sadiq shah\",\"Naseeb shah\",45467,4567,\"AI\")\n",
    "a.student1_info()\n",
    "\n",
    "s2=Student(\"sadiq shah\",\"Nas shah\",45467,454444447,\"AI\")\n",
    "s2.student2_info()\n",
    "s2.student1_info()"
   ]
  },
  {
   "cell_type": "code",
   "execution_count": null,
   "metadata": {},
   "outputs": [],
   "source": []
  },
  {
   "cell_type": "code",
   "execution_count": null,
   "metadata": {},
   "outputs": [],
   "source": []
  },
  {
   "cell_type": "code",
   "execution_count": null,
   "metadata": {},
   "outputs": [],
   "source": []
  },
  {
   "cell_type": "code",
   "execution_count": null,
   "metadata": {},
   "outputs": [],
   "source": []
  },
  {
   "cell_type": "code",
   "execution_count": null,
   "metadata": {},
   "outputs": [],
   "source": []
  },
  {
   "cell_type": "code",
   "execution_count": null,
   "metadata": {},
   "outputs": [],
   "source": [
    "# s1=Student(\"sadiq shah\",\"naseeb shhah\",3218799686,4345465657,\"AI\")\n",
    "# s1.student1_info()\n",
    "\n",
    "# s2=Student(input(\"Enter Your name\"),\n",
    "#            input(\"Enter Your  father name\"),\n",
    "#            int(input(\"Enter Your  Contact name\")),\n",
    "#            int(input(\"Enter Your CNIC name\")),\n",
    "#            input(\"Enter Your Course name\"),\n",
    "           \n",
    "#           )\n",
    "# s2.student2_info()\n",
    "\n",
    "\n",
    "# s3=Student(input(\"Enter Your name\"),\n",
    "#            input(\"Enter Your  father name\"),\n",
    "#            int(input(\"Enter Your  Contact name\")),\n",
    "#            int(input(\"Enter Your CNIC name\")),\n",
    "#            input(\"Enter Your Course name\"),\n",
    "           \n",
    "#           )\n",
    "# s3.student3_info()\n",
    "\n",
    "\n",
    "\n",
    "# s4=Student(input(\"Enter Your name\"),\n",
    "#            input(\"Enter Your  father name\"),\n",
    "#            int(input(\"Enter Your  Contact name\")),\n",
    "#            int(input(\"Enter Your CNIC name\")),\n",
    "#            input(\"Enter Your Course name\"),\n",
    "           \n",
    "#           )\n",
    "# s4.studen4_info()\n",
    "\n",
    "# s5=Student(\"sadiq\",\"Naseeb\",57567687,46567,\"AI\")\n",
    "# s5.student5_info()"
   ]
  },
  {
   "cell_type": "code",
   "execution_count": null,
   "metadata": {},
   "outputs": [],
   "source": []
  },
  {
   "cell_type": "code",
   "execution_count": null,
   "metadata": {},
   "outputs": [],
   "source": []
  },
  {
   "cell_type": "code",
   "execution_count": null,
   "metadata": {},
   "outputs": [],
   "source": []
  },
  {
   "cell_type": "code",
   "execution_count": null,
   "metadata": {},
   "outputs": [],
   "source": []
  },
  {
   "cell_type": "markdown",
   "metadata": {},
   "source": [
    "# class and object"
   ]
  },
  {
   "cell_type": "code",
   "execution_count": 171,
   "metadata": {},
   "outputs": [],
   "source": [
    "class animals():\n",
    "    def __init__(self,name,color,about):\n",
    "        self.Animal_name=name\n",
    "        self.Animal_color=color\n",
    "        self.Animal_about=about\n",
    "    def dog(self):\n",
    "        print(\"\\t\\t==========\")\n",
    "        print(\"\\t\\t1st ANimal\")\n",
    "        print(\"\\t\\t==========\")\n",
    "        print(f\"My Animal name is: {self.Animal_name}\")\n",
    "        print(f\"My Animal color is: {self.Animal_color}\")\n",
    "        print(f\"My Dog  is: {self.Animal_about}\")        \n",
    "        print(\"\\n\")\n",
    "    def cat(self):\n",
    "        print(\"\\t\\t==========\")\n",
    "        print(\"\\t\\t2nd ANimal\")\n",
    "        print(\"\\t\\t==========\")\n",
    "        print(f\"My Animal name is: {self.Animal_name}\")\n",
    "        print(f\"My Animal color is: {self.Animal_color}\")\n",
    "        print(f\"My  Cat  is: {self.Animal_about}\")  \n",
    "        print(\"\\n\")\n",
    "    def Horse(self):\n",
    "        print(\"\\t\\t==========\")\n",
    "        print(\"\\t\\t3rd ANimal\")\n",
    "        print(\"\\t\\t==========\")\n",
    "        print(f\"My Animal name is: {self.Animal_name}\")\n",
    "        print(f\"My Animal color is: {self.Animal_color}\")\n",
    "        print(f\"My Horse  is: {self.Animal_about}\")   \n",
    "        print(\"\\n\")\n",
    "    def Hen(self):\n",
    "        print(\"\\t\\t==========\")\n",
    "        print(\"\\t\\t4th ANimal\")\n",
    "        print(\"\\t\\t==========\")\n",
    "        print(f\"My Animal name is: {self.Animal_name}\")\n",
    "        print(f\"My Animal color is: {self.Animal_color}\")\n",
    "        print(f\"My Hen Give: {self.Animal_about}\")  \n",
    "        \n",
    "    "
   ]
  },
  {
   "cell_type": "code",
   "execution_count": 172,
   "metadata": {},
   "outputs": [
    {
     "name": "stdout",
     "output_type": "stream",
     "text": [
      "\t\t==========\n",
      "\t\t1st ANimal\n",
      "\t\t==========\n",
      "My Animal name is: Dog\n",
      "My Animal color is: Black\n",
      "My Dog  is: Pet Animal\n",
      "\n",
      "\n",
      "\t\t==========\n",
      "\t\t2nd ANimal\n",
      "\t\t==========\n",
      "My Animal name is: Cat\n",
      "My Animal color is: Yellow\n",
      "My  Cat  is: Soo CUte\n",
      "\n",
      "\n",
      "\t\t==========\n",
      "\t\t3rd ANimal\n",
      "\t\t==========\n",
      "My Animal name is: Horse\n",
      "My Animal color is: Brown\n",
      "My Horse  is: Best Riding\n",
      "\n",
      "\n",
      "\t\t==========\n",
      "\t\t4th ANimal\n",
      "\t\t==========\n",
      "My Animal name is: Hen\n",
      "My Animal color is: White\n",
      "My Hen Give: 10 Eggs daily\n"
     ]
    }
   ],
   "source": [
    "A1=animals(\"Dog\",\"Black\",\"Pet Animal\")\n",
    "A2=animals(\"Cat\",\"Yellow\",\"Soo CUte\")\n",
    "A3=animals(\"Horse\",\"Brown\",\"Best Riding\")\n",
    "A4=animals(\"Hen\",\"White\",\"10 Eggs daily\")\n",
    "\n",
    "\n",
    "\n",
    "A1.dog()\n",
    "A2.cat()\n",
    "A3.Horse()\n",
    "A4.Hen()"
   ]
  },
  {
   "cell_type": "code",
   "execution_count": null,
   "metadata": {},
   "outputs": [],
   "source": []
  },
  {
   "cell_type": "code",
   "execution_count": null,
   "metadata": {},
   "outputs": [],
   "source": [
    "#Asalam o alikum.....Aj hum parhn gy class kia hai object kia hai....."
   ]
  },
  {
   "cell_type": "markdown",
   "metadata": {},
   "source": [
    "# Class and object"
   ]
  },
  {
   "cell_type": "code",
   "execution_count": null,
   "metadata": {},
   "outputs": [],
   "source": [
    "Class: A code where method and behavoir defines...also called blue print ..."
   ]
  },
  {
   "cell_type": "code",
   "execution_count": null,
   "metadata": {},
   "outputs": [],
   "source": [
    "Object:instance of class:means class k andr k method ko use krny k lye hum class ka object bnaty hain...."
   ]
  },
  {
   "cell_type": "code",
   "execution_count": null,
   "metadata": {},
   "outputs": [],
   "source": [
    "# Ayen example krty hain"
   ]
  },
  {
   "cell_type": "code",
   "execution_count": null,
   "metadata": {},
   "outputs": [],
   "source": [
    "class students():     #init use to initialize the class and self  it is obejct .....\n",
    "    def __init__(self,name,fname,std_class,age):  # name age and class,age thy all attributes...of class..\n",
    "        self(object hai).(any varible..)= name(ye jo upr hum ny define kia..)\n",
    "        self.(any varible..)= std_class\n",
    "        self.(any varible..)= age\n",
    "         Yhn apki class hogye tyaaar...... ab hum name fname class ko access krna chty hain\n",
    "            to phle is class ka object bnayn gy....\n",
    "    #creating object....\n",
    "    (any name of object)=(yhn class ka name aye ga) (1st attribnute,2nd attribute,3rd attributte,4hattribute) #yhn value pass krn gy..\n",
    "#     ab hum name ko kese accsess kr skty hain...\n",
    "apko apk object ka name likh k . k bad agr apko name accses krna hai to name kis varible m hai wo likhna pry ga jese \n",
    " (any object).(any varible)  #run... Now give a example....\n",
    "        "
   ]
  },
  {
   "cell_type": "code",
   "execution_count": null,
   "metadata": {},
   "outputs": [],
   "source": [
    "#create a class of animals and give attributes name color about_animal....."
   ]
  },
  {
   "cell_type": "code",
   "execution_count": 2,
   "metadata": {},
   "outputs": [],
   "source": [
    "class animals():\n",
    "    def __init__(self,name,color,about_animal):\n",
    "        self.animal_name=name\n",
    "        self.animal_color=color\n",
    "        self.about_animal=about_animal   # no matter donu same hojyn...  class bn gye....ab hum iska object bnyn gy"
   ]
  },
  {
   "cell_type": "code",
   "execution_count": 8,
   "metadata": {},
   "outputs": [
    {
     "name": "stdout",
     "output_type": "stream",
     "text": [
      "SHeeru\n",
      "Sheeru is my best friend I love sheeru\n"
     ]
    }
   ],
   "source": [
    "animals_object=animals(\"SHeeru\",\"Orange\",\"Sheeru is my best friend\")    # object bn gya.... now accses each value of class by an\n",
    "# object\n",
    "print(animals_object.animal_name) #calling value form class that give value in an object\n",
    "print(animals_object.about_animal,\"I love sheeru\") #you can add..ooother as u want"
   ]
  },
  {
   "cell_type": "code",
   "execution_count": null,
   "metadata": {},
   "outputs": [],
   "source": [
    "# NOw create a funciton in.....class"
   ]
  },
  {
   "cell_type": "code",
   "execution_count": 12,
   "metadata": {},
   "outputs": [],
   "source": [
    "class animals():\n",
    "    def __init__(self,name,color,about_animal):\n",
    "        self.animal_name=name\n",
    "        self.animal_color=color\n",
    "        self.about_animal=about_animal    #now createa function in class.....\n",
    "    def about_dog(self): # you should wrtie he object name(means self in  the funcion...)\n",
    "        print(\"i love my dog\")  #funcion defined....now call funciton..."
   ]
  },
  {
   "cell_type": "code",
   "execution_count": 13,
   "metadata": {},
   "outputs": [
    {
     "name": "stdout",
     "output_type": "stream",
     "text": [
      "i love my dog\n"
     ]
    }
   ],
   "source": [
    "#create  obejct of the class....\n",
    "animals_object=animals(\"SHeeru\",\"Orange\",\"Sheeru is my best friend\")   #sorry run ni kia tha upr wala block..\n",
    "animals_object.about_dog()  #function call krny k luye object ka name likhna parhta hai.... then func ka name"
   ]
  },
  {
   "cell_type": "code",
   "execution_count": null,
   "metadata": {},
   "outputs": [],
   "source": []
  },
  {
   "cell_type": "code",
   "execution_count": 20,
   "metadata": {},
   "outputs": [],
   "source": [
    "# Ab function k andr object ko kese call krwaty hain ye dekhn....\n",
    "class animals():\n",
    "    def __init__(self,name,color,about_animal):\n",
    "        self.animal_name=name\n",
    "        self.animal_color=color\n",
    "        self.about_animal=about_animal    \n",
    "    def about_dog(self):\n",
    "        print(f\"My dog name is: {self.animal_name}\\n my dog color is: {self.animal_color}\\nmy dog is : {self.about_animal}\")  # ab humn pata hai k self hmara object hai..hum bus \n",
    "                                                                        #self.(any attribute ka name likhn gy wo object jo nechy created kia hai wha sy value uth k aye g)\n",
    "        print(\"i love my dog, its my dog properties\")  "
   ]
  },
  {
   "cell_type": "code",
   "execution_count": 21,
   "metadata": {},
   "outputs": [
    {
     "name": "stdout",
     "output_type": "stream",
     "text": [
      "My dog name is: SHeeru\n",
      " my dog color is: Orange\n",
      "my dog is : Sheeru is my best friend\n",
      "i love my dog, its my dog properties\n"
     ]
    }
   ],
   "source": [
    "#create  obejct of the class....\n",
    "animals_object=animals(\"SHeeru\",\"Orange\",\"Sheeru is my best friend\")   #sorry run ni kia tha upr wala block..\n",
    "animals_object.about_dog()  #function call krny k luye object ka name likhna parhta hai.... then func ka name\n",
    "\n",
    "# ab me chata hu mere dog wali function me me name color and about sb declare kro to dekhn,,,\n",
    "# \\n use for new line\n"
   ]
  },
  {
   "cell_type": "code",
   "execution_count": null,
   "metadata": {},
   "outputs": [],
   "source": []
  },
  {
   "cell_type": "code",
   "execution_count": null,
   "metadata": {},
   "outputs": [],
   "source": []
  }
 ],
 "metadata": {
  "kernelspec": {
   "display_name": "Python 3",
   "language": "python",
   "name": "python3"
  },
  "language_info": {
   "codemirror_mode": {
    "name": "ipython",
    "version": 3
   },
   "file_extension": ".py",
   "mimetype": "text/x-python",
   "name": "python",
   "nbconvert_exporter": "python",
   "pygments_lexer": "ipython3",
   "version": "3.7.3"
  }
 },
 "nbformat": 4,
 "nbformat_minor": 2
}
